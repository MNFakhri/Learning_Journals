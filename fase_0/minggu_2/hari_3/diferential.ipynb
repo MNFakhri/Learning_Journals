{
 "cells": [
  {
   "cell_type": "code",
   "execution_count": 1,
   "metadata": {},
   "outputs": [],
   "source": [
    "import sympy as sy\n",
    "import numpy as np\n",
    "import matplotlib.pyplot as plt\n",
    "from scipy.optimize import minimize_scalar\n",
    "from sympy.tensor.array import derive_by_array"
   ]
  },
  {
   "cell_type": "code",
   "execution_count": 2,
   "metadata": {},
   "outputs": [
    {
     "data": {
      "text/latex": [
       "$\\displaystyle x$"
      ],
      "text/plain": [
       "x"
      ]
     },
     "execution_count": 2,
     "metadata": {},
     "output_type": "execute_result"
    }
   ],
   "source": [
    "x = sy.Symbol(\"x\")\n",
    "x"
   ]
  },
  {
   "cell_type": "code",
   "execution_count": 3,
   "metadata": {},
   "outputs": [
    {
     "data": {
      "text/latex": [
       "$\\displaystyle 2 x^{2} + 4 x - 1$"
      ],
      "text/plain": [
       "2*x**2 + 4*x - 1"
      ]
     },
     "execution_count": 3,
     "metadata": {},
     "output_type": "execute_result"
    }
   ],
   "source": [
    "f = 2*x**2 + 4*x - 1\n",
    "f"
   ]
  },
  {
   "cell_type": "code",
   "execution_count": 4,
   "metadata": {},
   "outputs": [
    {
     "data": {
      "text/latex": [
       "$\\displaystyle 4 x + 4$"
      ],
      "text/plain": [
       "4*x + 4"
      ]
     },
     "execution_count": 4,
     "metadata": {},
     "output_type": "execute_result"
    }
   ],
   "source": [
    "sy.diff(f)"
   ]
  },
  {
   "cell_type": "code",
   "execution_count": 5,
   "metadata": {},
   "outputs": [
    {
     "data": {
      "text/latex": [
       "$\\displaystyle 4$"
      ],
      "text/plain": [
       "4"
      ]
     },
     "execution_count": 5,
     "metadata": {},
     "output_type": "execute_result"
    }
   ],
   "source": [
    "sy.diff(sy.diff(f))"
   ]
  },
  {
   "cell_type": "code",
   "execution_count": 6,
   "metadata": {},
   "outputs": [
    {
     "data": {
      "text/latex": [
       "$\\displaystyle 4 x + 4$"
      ],
      "text/plain": [
       "4*x + 4"
      ]
     },
     "execution_count": 6,
     "metadata": {},
     "output_type": "execute_result"
    }
   ],
   "source": [
    "df = f.diff()\n",
    "df"
   ]
  },
  {
   "cell_type": "code",
   "execution_count": 7,
   "metadata": {},
   "outputs": [
    {
     "data": {
      "text/latex": [
       "$\\displaystyle 4$"
      ],
      "text/plain": [
       "4"
      ]
     },
     "execution_count": 7,
     "metadata": {},
     "output_type": "execute_result"
    }
   ],
   "source": [
    "d2f = df.diff()\n",
    "d2f"
   ]
  },
  {
   "cell_type": "code",
   "execution_count": 8,
   "metadata": {},
   "outputs": [
    {
     "data": {
      "text/latex": [
       "$\\displaystyle - \\log{\\left(x^{2} \\right)} + \\cos{\\left(x \\right)}$"
      ],
      "text/plain": [
       "-log(x**2) + cos(x)"
      ]
     },
     "execution_count": 8,
     "metadata": {},
     "output_type": "execute_result"
    }
   ],
   "source": [
    "g = sy.cos(x) - sy.log(x**2)\n",
    "g"
   ]
  },
  {
   "cell_type": "code",
   "execution_count": 9,
   "metadata": {},
   "outputs": [
    {
     "data": {
      "text/latex": [
       "$\\displaystyle - \\sin{\\left(x \\right)} - \\frac{2}{x}$"
      ],
      "text/plain": [
       "-sin(x) - 2/x"
      ]
     },
     "execution_count": 9,
     "metadata": {},
     "output_type": "execute_result"
    }
   ],
   "source": [
    "dg = g.diff()\n",
    "dg"
   ]
  },
  {
   "cell_type": "code",
   "execution_count": 10,
   "metadata": {},
   "outputs": [
    {
     "data": {
      "text/latex": [
       "$\\displaystyle - \\cos{\\left(x \\right)} + \\frac{2}{x^{2}}$"
      ],
      "text/plain": [
       "-cos(x) + 2/x**2"
      ]
     },
     "execution_count": 10,
     "metadata": {},
     "output_type": "execute_result"
    }
   ],
   "source": [
    "d2g = dg.diff()\n",
    "d2g"
   ]
  },
  {
   "cell_type": "code",
   "execution_count": 11,
   "metadata": {},
   "outputs": [
    {
     "data": {
      "text/latex": [
       "$\\displaystyle \\sin{\\left(x \\right)} - \\frac{4}{x^{3}}$"
      ],
      "text/plain": [
       "sin(x) - 4/x**3"
      ]
     },
     "execution_count": 11,
     "metadata": {},
     "output_type": "execute_result"
    }
   ],
   "source": [
    "d3g = d2g.diff()\n",
    "d3g"
   ]
  },
  {
   "cell_type": "code",
   "execution_count": 12,
   "metadata": {},
   "outputs": [],
   "source": [
    "x = np.linspace(-100,100,50) # linspace(dari,ke,jumlah data)\n",
    "y = 2*x**2 + 4*x - 1 "
   ]
  },
  {
   "cell_type": "code",
   "execution_count": 13,
   "metadata": {},
   "outputs": [
    {
     "data": {
      "text/plain": [
       "array([-100.        ,  -95.91836735,  -91.83673469,  -87.75510204,\n",
       "        -83.67346939,  -79.59183673,  -75.51020408,  -71.42857143,\n",
       "        -67.34693878,  -63.26530612,  -59.18367347,  -55.10204082,\n",
       "        -51.02040816,  -46.93877551,  -42.85714286,  -38.7755102 ,\n",
       "        -34.69387755,  -30.6122449 ,  -26.53061224,  -22.44897959,\n",
       "        -18.36734694,  -14.28571429,  -10.20408163,   -6.12244898,\n",
       "         -2.04081633,    2.04081633,    6.12244898,   10.20408163,\n",
       "         14.28571429,   18.36734694,   22.44897959,   26.53061224,\n",
       "         30.6122449 ,   34.69387755,   38.7755102 ,   42.85714286,\n",
       "         46.93877551,   51.02040816,   55.10204082,   59.18367347,\n",
       "         63.26530612,   67.34693878,   71.42857143,   75.51020408,\n",
       "         79.59183673,   83.67346939,   87.75510204,   91.83673469,\n",
       "         95.91836735,  100.        ])"
      ]
     },
     "execution_count": 13,
     "metadata": {},
     "output_type": "execute_result"
    }
   ],
   "source": [
    "x"
   ]
  },
  {
   "cell_type": "code",
   "execution_count": 14,
   "metadata": {},
   "outputs": [
    {
     "data": {
      "text/plain": [
       "(50,)"
      ]
     },
     "execution_count": 14,
     "metadata": {},
     "output_type": "execute_result"
    }
   ],
   "source": [
    "x.shape"
   ]
  },
  {
   "cell_type": "code",
   "execution_count": 15,
   "metadata": {},
   "outputs": [
    {
     "data": {
      "text/plain": [
       "(50,)"
      ]
     },
     "execution_count": 15,
     "metadata": {},
     "output_type": "execute_result"
    }
   ],
   "source": [
    "y.shape"
   ]
  },
  {
   "cell_type": "code",
   "execution_count": 16,
   "metadata": {},
   "outputs": [
    {
     "data": {
      "text/plain": [
       "[<matplotlib.lines.Line2D at 0x2a447597fd0>]"
      ]
     },
     "execution_count": 16,
     "metadata": {},
     "output_type": "execute_result"
    },
    {
     "data": {
      "image/png": "[encoded data removed]",
      "text/plain": [
       "<Figure size 432x288 with 1 Axes>"
      ]
     },
     "metadata": {
      "needs_background": "light"
     },
     "output_type": "display_data"
    }
   ],
   "source": [
    "plt.plot(y)"
   ]
  },
  {
   "cell_type": "code",
   "execution_count": 17,
   "metadata": {},
   "outputs": [
    {
     "name": "stdout",
     "output_type": "stream",
     "text": [
      "[-387.83673469 -371.51020408 -355.18367347 -338.85714286 -322.53061224\n",
      " -306.20408163 -289.87755102 -273.55102041 -257.2244898  -240.89795918\n",
      " -224.57142857 -208.24489796 -191.91836735 -175.59183673 -159.26530612\n",
      " -142.93877551 -126.6122449  -110.28571429  -93.95918367  -77.63265306\n",
      "  -61.30612245  -44.97959184  -28.65306122  -12.32653061    4.\n",
      "   20.32653061   36.65306122   52.97959184   69.30612245   85.63265306\n",
      "  101.95918367  118.28571429  134.6122449   150.93877551  167.26530612\n",
      "  183.59183673  199.91836735  216.24489796  232.57142857  248.89795918\n",
      "  265.2244898   281.55102041  297.87755102  314.20408163  330.53061224\n",
      "  346.85714286  363.18367347  379.51020408  395.83673469]\n",
      "[-387.83673469 -379.67346939 -363.34693878 -347.02040816 -330.69387755\n",
      " -314.36734694 -298.04081633 -281.71428571 -265.3877551  -249.06122449\n",
      " -232.73469388 -216.40816327 -200.08163265 -183.75510204 -167.42857143\n",
      " -151.10204082 -134.7755102  -118.44897959 -102.12244898  -85.79591837\n",
      "  -69.46938776  -53.14285714  -36.81632653  -20.48979592   -4.16326531\n",
      "   12.16326531   28.48979592   44.81632653   61.14285714   77.46938776\n",
      "   93.79591837  110.12244898  126.44897959  142.7755102   159.10204082\n",
      "  175.42857143  191.75510204  208.08163265  224.40816327  240.73469388\n",
      "  257.06122449  273.3877551   289.71428571  306.04081633  322.36734694\n",
      "  338.69387755  355.02040816  371.34693878  387.67346939  395.83673469]\n"
     ]
    }
   ],
   "source": [
    "dy1 = np.diff(y) / np.diff(x)\n",
    "dy2 = np.gradient(y,x)\n",
    "\n",
    "print(dy1)\n",
    "print(dy2)"
   ]
  },
  {
   "cell_type": "code",
   "execution_count": 18,
   "metadata": {},
   "outputs": [
    {
     "data": {
      "text/plain": [
       "[<matplotlib.lines.Line2D at 0x2a447d36c40>]"
      ]
     },
     "execution_count": 18,
     "metadata": {},
     "output_type": "execute_result"
    },
    {
     "data": {
      "image/png": "[encoded data removed]",
      "text/plain": [
       "<Figure size 432x288 with 1 Axes>"
      ]
     },
     "metadata": {
      "needs_background": "light"
     },
     "output_type": "display_data"
    }
   ],
   "source": [
    "plt.plot(x[1:],dy1)"
   ]
  },
  {
   "cell_type": "code",
   "execution_count": 19,
   "metadata": {},
   "outputs": [],
   "source": [
    "def f(x):\n",
    "    return 2*x**2 + 4*x - 1"
   ]
  },
  {
   "cell_type": "code",
   "execution_count": 20,
   "metadata": {},
   "outputs": [
    {
     "data": {
      "text/plain": [
       "     fun: -3.0\n",
       "    nfev: 9\n",
       "     nit: 4\n",
       " success: True\n",
       "       x: -1.0000000000000002"
      ]
     },
     "execution_count": 20,
     "metadata": {},
     "output_type": "execute_result"
    }
   ],
   "source": [
    "opt = minimize_scalar(f)\n",
    "opt"
   ]
  },
  {
   "cell_type": "markdown",
   "metadata": {},
   "source": [
    "- fun = y (nilai y maks) (global minimum)\n",
    "- nfev = number of evaluation function\n",
    "- nit = number of iteration\n",
    "- x = nilai variable minimum global"
   ]
  },
  {
   "cell_type": "code",
   "execution_count": 21,
   "metadata": {},
   "outputs": [],
   "source": [
    "x1 = np.linspace(-10,10)\n",
    "y1 = x1**3 + 6*x1**2 + 9*x1 + 1"
   ]
  },
  {
   "cell_type": "code",
   "execution_count": 22,
   "metadata": {},
   "outputs": [
    {
     "data": {
      "text/plain": [
       "[<matplotlib.lines.Line2D at 0x2a447dbc520>]"
      ]
     },
     "execution_count": 22,
     "metadata": {},
     "output_type": "execute_result"
    },
    {
     "data": {
      "image/png": "[encoded data removed]",
      "text/plain": [
       "<Figure size 432x288 with 1 Axes>"
      ]
     },
     "metadata": {
      "needs_background": "light"
     },
     "output_type": "display_data"
    }
   ],
   "source": [
    "plt.plot(y1)"
   ]
  },
  {
   "cell_type": "code",
   "execution_count": 23,
   "metadata": {},
   "outputs": [
    {
     "data": {
      "text/plain": [
       "     fun: -3.0\n",
       "    nfev: 16\n",
       "     nit: 11\n",
       " success: True\n",
       "       x: -1.0000000147214332"
      ]
     },
     "execution_count": 23,
     "metadata": {},
     "output_type": "execute_result"
    }
   ],
   "source": [
    "def g(x1):\n",
    "    return x1**3 + 6*x1**2 + 9*x1 + 1\n",
    "\n",
    "minimize_scalar(g)"
   ]
  },
  {
   "cell_type": "code",
   "execution_count": 24,
   "metadata": {},
   "outputs": [
    {
     "data": {
      "text/plain": [
       "-3.0"
      ]
     },
     "execution_count": 24,
     "metadata": {},
     "output_type": "execute_result"
    }
   ],
   "source": [
    "minimize_scalar(g).fun"
   ]
  },
  {
   "cell_type": "code",
   "execution_count": 25,
   "metadata": {},
   "outputs": [
    {
     "data": {
      "text/plain": [
       "-1.0000000147214332"
      ]
     },
     "execution_count": 25,
     "metadata": {},
     "output_type": "execute_result"
    }
   ],
   "source": [
    "minimize_scalar(g).x"
   ]
  },
  {
   "cell_type": "code",
   "execution_count": 26,
   "metadata": {},
   "outputs": [
    {
     "data": {
      "text/plain": [
       "3.0"
      ]
     },
     "execution_count": 26,
     "metadata": {},
     "output_type": "execute_result"
    }
   ],
   "source": [
    "minimize_scalar(g).fun * -1 # global maksimum"
   ]
  },
  {
   "cell_type": "code",
   "execution_count": 27,
   "metadata": {},
   "outputs": [
    {
     "data": {
      "text/latex": [
       "$\\displaystyle x^{3} + 4 x y + x \\sin{\\left(z \\right)} + y z^{8}$"
      ],
      "text/plain": [
       "x**3 + 4*x*y + x*sin(z) + y*z**8"
      ]
     },
     "execution_count": 27,
     "metadata": {},
     "output_type": "execute_result"
    }
   ],
   "source": [
    "x,y,z = sy.symbols(\"x,y,z\")\n",
    "f = 4*x*y + x*sy.sin(z) + x**3 + z**8*y\n",
    "f"
   ]
  },
  {
   "cell_type": "code",
   "execution_count": 28,
   "metadata": {},
   "outputs": [
    {
     "data": {
      "text/latex": [
       "$\\displaystyle 3 x^{2} + 4 y + \\sin{\\left(z \\right)}$"
      ],
      "text/plain": [
       "3*x**2 + 4*y + sin(z)"
      ]
     },
     "execution_count": 28,
     "metadata": {},
     "output_type": "execute_result"
    }
   ],
   "source": [
    "sy.diff(f,x)"
   ]
  },
  {
   "cell_type": "code",
   "execution_count": 29,
   "metadata": {},
   "outputs": [
    {
     "data": {
      "text/latex": [
       "$\\displaystyle 4 x + z^{8}$"
      ],
      "text/plain": [
       "4*x + z**8"
      ]
     },
     "execution_count": 29,
     "metadata": {},
     "output_type": "execute_result"
    }
   ],
   "source": [
    "sy.diff(f,y)"
   ]
  },
  {
   "cell_type": "code",
   "execution_count": 30,
   "metadata": {},
   "outputs": [
    {
     "data": {
      "text/latex": [
       "$\\displaystyle x \\cos{\\left(z \\right)} + 8 y z^{7}$"
      ],
      "text/plain": [
       "x*cos(z) + 8*y*z**7"
      ]
     },
     "execution_count": 30,
     "metadata": {},
     "output_type": "execute_result"
    }
   ],
   "source": [
    "sy.diff(f,z)"
   ]
  },
  {
   "cell_type": "code",
   "execution_count": 31,
   "metadata": {},
   "outputs": [
    {
     "data": {
      "text/latex": [
       "$\\displaystyle 6 x$"
      ],
      "text/plain": [
       "6*x"
      ]
     },
     "execution_count": 31,
     "metadata": {},
     "output_type": "execute_result"
    }
   ],
   "source": [
    "f.diff(x).diff(x)"
   ]
  },
  {
   "cell_type": "code",
   "execution_count": 32,
   "metadata": {},
   "outputs": [
    {
     "data": {
      "text/latex": [
       "$\\displaystyle 0$"
      ],
      "text/plain": [
       "0"
      ]
     },
     "execution_count": 32,
     "metadata": {},
     "output_type": "execute_result"
    }
   ],
   "source": [
    "f.diff(y).diff(y)"
   ]
  },
  {
   "cell_type": "code",
   "execution_count": 33,
   "metadata": {},
   "outputs": [
    {
     "data": {
      "text/latex": [
       "$\\displaystyle 4$"
      ],
      "text/plain": [
       "4"
      ]
     },
     "execution_count": 33,
     "metadata": {},
     "output_type": "execute_result"
    }
   ],
   "source": [
    "f.diff(x).diff(y)"
   ]
  },
  {
   "cell_type": "code",
   "execution_count": 34,
   "metadata": {},
   "outputs": [
    {
     "data": {
      "text/latex": [
       "$\\displaystyle \\left[\\begin{matrix}3 x^{2} + 4 y + \\sin{\\left(z \\right)} & 4 x + z^{8} & x \\cos{\\left(z \\right)} + 8 y z^{7}\\end{matrix}\\right]$"
      ],
      "text/plain": [
       "[3*x**2 + 4*y + sin(z), 4*x + z**8, x*cos(z) + 8*y*z**7]"
      ]
     },
     "execution_count": 34,
     "metadata": {},
     "output_type": "execute_result"
    }
   ],
   "source": [
    "gradien = derive_by_array(f,(x,y,z))\n",
    "gradien"
   ]
  },
  {
   "cell_type": "code",
   "execution_count": 35,
   "metadata": {},
   "outputs": [
    {
     "data": {
      "text/latex": [
       "$\\displaystyle \\left[\\begin{matrix}3 x^{2} + 4 y + \\sin{\\left(z \\right)}\\\\4 x + z^{8}\\\\x \\cos{\\left(z \\right)} + 8 y z^{7}\\end{matrix}\\right]$"
      ],
      "text/plain": [
       "Matrix([\n",
       "[3*x**2 + 4*y + sin(z)],\n",
       "[           4*x + z**8],\n",
       "[  x*cos(z) + 8*y*z**7]])"
      ]
     },
     "execution_count": 35,
     "metadata": {},
     "output_type": "execute_result"
    }
   ],
   "source": [
    "matrix_gradien = sy.Matrix(gradien)\n",
    "matrix_gradien"
   ]
  },
  {
   "cell_type": "code",
   "execution_count": 36,
   "metadata": {},
   "outputs": [
    {
     "data": {
      "text/latex": [
       "$\\displaystyle \\left[\\begin{matrix}x\\\\y\\\\z\\end{matrix}\\right]$"
      ],
      "text/plain": [
       "Matrix([\n",
       "[x],\n",
       "[y],\n",
       "[z]])"
      ]
     },
     "execution_count": 36,
     "metadata": {},
     "output_type": "execute_result"
    }
   ],
   "source": [
    "variable = sy.Matrix([x,y,z])\n",
    "variable"
   ]
  },
  {
   "cell_type": "code",
   "execution_count": 37,
   "metadata": {},
   "outputs": [
    {
     "data": {
      "text/latex": [
       "$\\displaystyle \\left[\\begin{matrix}6 x & 4 & \\cos{\\left(z \\right)}\\\\4 & 0 & 8 z^{7}\\\\\\cos{\\left(z \\right)} & 8 z^{7} & - x \\sin{\\left(z \\right)} + 56 y z^{6}\\end{matrix}\\right]$"
      ],
      "text/plain": [
       "Matrix([\n",
       "[   6*x,      4,                cos(z)],\n",
       "[     4,      0,                8*z**7],\n",
       "[cos(z), 8*z**7, -x*sin(z) + 56*y*z**6]])"
      ]
     },
     "execution_count": 37,
     "metadata": {},
     "output_type": "execute_result"
    }
   ],
   "source": [
    "matrix_gradien.jacobian(variable)"
   ]
  },
  {
   "cell_type": "code",
   "execution_count": null,
   "metadata": {},
   "outputs": [],
   "source": []
  }
 ],
 "metadata": {
  "kernelspec": {
   "display_name": "Python 3.9.12 ('base')",
   "language": "python",
   "name": "python3"
  },
  "language_info": {
   "codemirror_mode": {
    "name": "ipython",
    "version": 3
   },
   "file_extension": ".py",
   "mimetype": "text/x-python",
   "name": "python",
   "nbconvert_exporter": "python",
   "pygments_lexer": "ipython3",
   "version": "3.9.12"
  },
  "orig_nbformat": 4,
  "vscode": {
   "interpreter": {
    "hash": "a90aeebcf29d64a654773811cc170cb25061cb2498f10ac689db374c7bf325de"
   }
  }
 },
 "nbformat": 4,
 "nbformat_minor": 2
}

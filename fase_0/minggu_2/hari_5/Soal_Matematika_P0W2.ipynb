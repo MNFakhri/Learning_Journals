{
  "nbformat": 4,
  "nbformat_minor": 0,
  "metadata": {
    "colab": {
      "name": "Soal Matematika P0W2.ipynb",
      "provenance": []
    },
    "kernelspec": {
      "name": "python3",
      "display_name": "Python 3"
    },
    "language_info": {
      "name": "python"
    }
  },
  "cells": [
    {
      "cell_type": "markdown",
      "source": [
        "# Soal Eigendecomposition\n",
        "\n",
        "1. Buktikan vektor x = (2, -1) adalah vektor eigen dari A = [(1,4),(2,3)] dan tentukan nilai eigennya!\n",
        "\n",
        "2. Tentukan nilai dan vektor Eigen dari matriks A = [(1,-2),(1,4)]"
      ],
      "metadata": {
        "id": "TufoSypkmYt-"
      }
    },
    {
      "cell_type": "markdown",
      "source": [
        "# Soal Turunan\n",
        "\n",
        "**1. Tentukan turunan pertama dari:**\n",
        "\n",
        "\\begin{align}\n",
        "\\text{a. } &f(x) = x^3 - 2x^2 + 3x \\\\[1em]\n",
        "\\text{b. } &f(x) = (3x+2)(2x+5) \\\\[1em]\n",
        "\\text{c. } &f(x) = 4x^{1/2} \\\\[1em]\n",
        "\\text{d. } &f(x) = \\frac{x^3+4}{2x+3}\n",
        "\\end{align}\n",
        "\n",
        "<br></br>\n",
        "\n",
        "**2. Tentukan hingga berapa kali turunan fungsi berikut sampai menghasilkan nilai 0:**\n",
        "\n",
        "\\begin{align}\n",
        "f(x) = (x^2+3x+4)(2x+3)\n",
        "\\end{align}\n",
        "\n",
        "**3. Tentukan titik ekstrem dari fungsi-fungsi tersebut menggunakan turunan pertama dan kedua dan tentukan pula jenis titik ekstremnya:**\n",
        "\n",
        "\\begin{align}\n",
        "\\text{a. } &f(x) = x^4+2x^2 \\\\[1em]\n",
        "\\text{b. } &f(x) = 2x^3-3x^2-12x+7\n",
        "\\end{align}\n",
        "\n",
        "**Catatan no. 3:** *Untuk pengerjaan menggunakan Python, cari titik global minimumnya saja.*\n",
        "\n",
        "<br></br>\n",
        "\n",
        "**4. Suatu kotak tegak dengan alas dan tutup berbentuk persegi dibuat dari kardus tipis dengan volume 512 liter. Tentukan ukuran dan bentuk dari kotak tegak tersebut supaya luas bahannya minimum!** *(Gunakan optimasi: turunan pertama dan kedua)*.\n",
        "\n"
      ],
      "metadata": {
        "id": "m8YgSX4HnIOp"
      }
    },
    {
      "cell_type": "markdown",
      "source": [
        "# Soal Integral\n",
        "\n",
        "\\begin{align}\n",
        "\\text{1. } &\\int (12x^2 - 4x + 1) \\, dx \\\\[1em]\n",
        "\\text{2. } &\\int (2x^3-9x^2+4x-5) \\, dx \\\\[1em]\n",
        "\\text{3. } &\\int_2^4 (-x^2+6x-8) \\, dx \\\\[1em]\n",
        "\\text{4. } &\\int_0^1 (x^3 + \\sqrt{x}) \\, dx \\\\[1em]\n",
        "\\end{align}\n",
        "\n",
        "\n",
        "<br></br>\n",
        "**5. Tentukan luas area di bawah kurva dari fungsi berikut:**\n",
        "\\begin{align}\n",
        "\\text{a. } &\\int (10x^2 - 4x) \\, dx &\\text{dari x=1 sampai x=3}\\\\[1em] \n",
        "\\text{b. } &\\int (2y^4-3y^2+2y-6) \\, dy &\\text{dari x=0 sampai x=2} \\\\[1em]\n",
        "\\end{align}\n",
        "<br></br>\n",
        "**6. Tentukan luas area di antara dua kurva berikut dari x=0 hingga x=4:**\n",
        "\\begin{align}\n",
        "&f(x) = x^2 - 2x &\\text{dan} &\\, &g(x) = 6x - x^2 \\\\[1em] \n",
        "\\end{align}\n",
        "*Anggap f(x) adalah fungsi di atas dan g(x) di bawah.*\n",
        "\n",
        "<br></br>\n",
        "<br></br>\n",
        "### <strong>Soal Bonus </strong>\n",
        "(Ini tidak bisa dilakukan di Python, silahkan dicoret-coret sendiri)\n",
        "\n",
        "\\begin{align}\n",
        "&\\int_1^3 (f(x) + 2) \\, dx = 2; \\, \\int_3^4 (f(x)-3) \\, dx = 5, \\, \\text{maka} \\int_1^4 f(x) \\, dx = \\, ....\n",
        "\\end{align}\n",
        "\n",
        "<br></br>\n",
        "**Soal bonus dapat menggunakan bantuan rumus integral tertentu berikut:**\n",
        "\n",
        "\\begin{align}\n",
        "&\\int_a^p f(x) \\, dx \\, + \\int_p^b f(x) \\, dx =  \\int_a^b f(x) \\, dx\n",
        "\\end{align}\n",
        "\n",
        "\\begin{align}\n",
        "\\text{dan}\n",
        "\\end{align}\n",
        "\n",
        "\\begin{align}\n",
        "&\\int(f(x) \\pm g(x)) \\, dx = \\int f(x) \\, dx \\, + \\int g(x) \\, dx\n",
        "\\end{align}"
      ],
      "metadata": {
        "id": "PvhSHx6YhG8L"
      }
    }
  ]
}
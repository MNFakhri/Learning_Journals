{
 "cells": [
  {
   "cell_type": "markdown",
   "metadata": {},
   "source": [
    "# Non Graded Challenge 4\n",
    "- Muhammad Nafisa Fakhri\n",
    "- FTDS Batch 013"
   ]
  },
  {
   "cell_type": "code",
   "execution_count": 1,
   "metadata": {},
   "outputs": [],
   "source": [
    "import numpy as np\n",
    "import pandas as pd\n",
    "import matplotlib.pyplot as plt"
   ]
  },
  {
   "cell_type": "markdown",
   "metadata": {},
   "source": [
    "#### 1. Membuat vektor dengan array"
   ]
  },
  {
   "cell_type": "code",
   "execution_count": 2,
   "metadata": {},
   "outputs": [
    {
     "data": {
      "text/plain": [
       "array([17, 22, 19])"
      ]
     },
     "execution_count": 2,
     "metadata": {},
     "output_type": "execute_result"
    }
   ],
   "source": [
    "vector = np.array([17,22,19])\n",
    "vector"
   ]
  },
  {
   "cell_type": "markdown",
   "metadata": {},
   "source": [
    "#### 2. Hitung : \n",
    "- a + b\n",
    "- b - c\n",
    "- a.c\n",
    "- a x b\n",
    "- norm a\n",
    "- sudut antara a dan b"
   ]
  },
  {
   "cell_type": "code",
   "execution_count": 3,
   "metadata": {},
   "outputs": [
    {
     "name": "stdout",
     "output_type": "stream",
     "text": [
      "[27 42 30]\n",
      "[5 8 2]\n",
      "520\n",
      "[170 440 209]\n",
      "[-138    3  120]\n",
      "33.67491648096547\n",
      "12.588900662180242\n",
      "12.588900662180242\n"
     ]
    }
   ],
   "source": [
    "a = np.array([17,22,19])\n",
    "b = np.array([10,20,11])\n",
    "c = np.array([5,12,9])\n",
    "\n",
    "cosinus = (a@b)/(np.linalg.norm(a)*np.linalg.norm(b))\n",
    "arc_cos = np.arccos(cosinus)\n",
    "derajat = np.degrees(arc_cos)\n",
    "\n",
    "print(a + b)\n",
    "print(b - c)\n",
    "print(np.dot(a,c))\n",
    "print(a*b)\n",
    "print(np.cross(a,b))\n",
    "print(np.linalg.norm(a))\n",
    "print(derajat)\n",
    "print(np.degrees(np.arccos((a@b)/(np.linalg.norm(a)*np.linalg.norm(b)))))"
   ]
  },
  {
   "cell_type": "markdown",
   "metadata": {},
   "source": [
    "#### 3. Pemboatan plot vektor"
   ]
  },
  {
   "cell_type": "code",
   "execution_count": 4,
   "metadata": {},
   "outputs": [
    {
     "data": {
      "image/png": "[encoded data removed]",
      "text/plain": [
       "<Figure size 432x288 with 1 Axes>"
      ]
     },
     "metadata": {
      "needs_background": "light"
     },
     "output_type": "display_data"
    }
   ],
   "source": [
    "u = np.array([2,5])\n",
    "v = np.array([3,1])\n",
    "\n",
    "def plot_vector2d(vector2d,origin=[0, 0],**options):\n",
    "    return plt.arrow(origin[0],origin[1],vector2d[0],vector2d[1],head_width=0.2,head_length=0.3,length_includes_head=True,**options)\n",
    "\n",
    "plot_vector2d(u,color=\"r\")\n",
    "plot_vector2d(v,color=\"b\")\n",
    "\n",
    "plt.axis([0,5,0,5])\n",
    "plt.grid()\n",
    "plt.show()"
   ]
  }
 ],
 "metadata": {
  "kernelspec": {
   "display_name": "Python 3.9.12 ('base')",
   "language": "python",
   "name": "python3"
  },
  "language_info": {
   "codemirror_mode": {
    "name": "ipython",
    "version": 3
   },
   "file_extension": ".py",
   "mimetype": "text/x-python",
   "name": "python",
   "nbconvert_exporter": "python",
   "pygments_lexer": "ipython3",
   "version": "3.9.12"
  },
  "orig_nbformat": 4,
  "vscode": {
   "interpreter": {
    "hash": "a90aeebcf29d64a654773811cc170cb25061cb2498f10ac689db374c7bf325de"
   }
  }
 },
 "nbformat": 4,
 "nbformat_minor": 2
}

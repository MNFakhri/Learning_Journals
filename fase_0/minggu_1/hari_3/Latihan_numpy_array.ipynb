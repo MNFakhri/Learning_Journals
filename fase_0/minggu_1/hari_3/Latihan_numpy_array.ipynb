{
  "cells": [
    {
      "cell_type": "markdown",
      "metadata": {
        "id": "u7fb2b_bcmLR"
      },
      "source": [
        "## Latihan Numpy \n"
      ]
    },
    {
      "cell_type": "code",
      "execution_count": 1,
      "metadata": {
        "id": "trMq9Uk5cmLV"
      },
      "outputs": [],
      "source": [
        "#Import Library\n",
        "import numpy as np"
      ]
    },
    {
      "cell_type": "code",
      "execution_count": 2,
      "metadata": {
        "colab": {
          "base_uri": "https://localhost:8080/"
        },
        "id": "SmvDl-10cmLW",
        "outputId": "c7593969-e7a6-4414-801a-7cfd9de486cf"
      },
      "outputs": [
        {
          "name": "stdout",
          "output_type": "stream",
          "text": [
            "[1, 2, 3, 4, 5]\n",
            "<class 'list'>\n",
            "[1 2 3 4 5]\n",
            "<class 'numpy.ndarray'>\n",
            "[ 1  2  3  4  5  6  7  8  9 10 11 12 13 14 15 16 17 18 19]\n",
            "<class 'numpy.ndarray'>\n"
          ]
        }
      ],
      "source": [
        "# Perubahan dari List ke Array\n",
        "# np.array()\n",
        "a = [1,2,3,4,5]\n",
        "print(a)\n",
        "print(type(a))\n",
        "\n",
        "b = np.array(a)\n",
        "print(b)\n",
        "print(type(b))\n",
        "\n",
        "#Membuat array menggunakan np.arange\n",
        "c = np.arange(1,20)\n",
        "print(c)\n",
        "print(type(c))"
      ]
    },
    {
      "cell_type": "code",
      "execution_count": 3,
      "metadata": {
        "colab": {
          "base_uri": "https://localhost:8080/"
        },
        "id": "83zSuu09cmLX",
        "outputId": "6d95a2ed-b339-441e-ec1b-0d447ab4a7fb"
      },
      "outputs": [
        {
          "name": "stdout",
          "output_type": "stream",
          "text": [
            "[[1 2 3]\n",
            " [4 5 6]]\n",
            "2\n"
          ]
        }
      ],
      "source": [
        "# Membuat Array 2D/Matrix\n",
        "# Lihat seberapa banyak kurung siku di awal untuk menentukan jumlah dimensi atau .ndim\n",
        "d = [\n",
        "     [1,2,3],\n",
        "     [4,5,6]\n",
        "]\n",
        "d = np.array(d)\n",
        "print(d)\n",
        "print(d.ndim)\n",
        "\n"
      ]
    },
    {
      "cell_type": "code",
      "execution_count": 4,
      "metadata": {
        "colab": {
          "base_uri": "https://localhost:8080/"
        },
        "id": "IL34uXP9X_P8",
        "outputId": "2f015ace-d87f-452b-a157-3f9a4f4e06bb"
      },
      "outputs": [
        {
          "name": "stdout",
          "output_type": "stream",
          "text": [
            "[[[2 3 4 5]\n",
            "  [1 2 3 4]\n",
            "  [3 4 5 6]]\n",
            "\n",
            " [[2 3 4 5]\n",
            "  [1 3 4 5]\n",
            "  [3 4 5 6]]]\n",
            "3\n",
            "(2, 3, 4)\n"
          ]
        }
      ],
      "source": [
        "#Membuat array N-Dimensi\n",
        "\n",
        "e = [\n",
        "      [\n",
        "      [  2,3,4,5],\n",
        "       [1,2,3,4],\n",
        "     [3,4,5,6]\n",
        "      ],\n",
        "     [\n",
        "      [2,3,4,5],\n",
        "      [1,3,4,5],\n",
        "      [3,4,5,6]\n",
        "     ]\n",
        "]\n",
        "e = np.array(e)\n",
        "print(e)\n",
        "print(e.ndim)\n",
        "print(e.shape)"
      ]
    },
    {
      "cell_type": "code",
      "execution_count": 5,
      "metadata": {
        "colab": {
          "base_uri": "https://localhost:8080/"
        },
        "id": "323Y5JEGcmLX",
        "outputId": "3cb0905e-bc34-408f-90b1-dcda0548bdb4"
      },
      "outputs": [
        {
          "name": "stdout",
          "output_type": "stream",
          "text": [
            "[1 2 3 4 5]\n",
            "[[1 2 3]\n",
            " [4 5 6]]\n",
            "(5,)\n",
            "(2, 3)\n"
          ]
        }
      ],
      "source": [
        "#Menentukan ukuran suatu array\n",
        "#.shape\n",
        "print(b)\n",
        "print(d)\n",
        "print(b.shape)\n",
        "print(d.shape)"
      ]
    },
    {
      "cell_type": "code",
      "execution_count": 6,
      "metadata": {
        "colab": {
          "base_uri": "https://localhost:8080/"
        },
        "id": "CcfStXT0cmLY",
        "outputId": "1703717a-2099-4264-92d0-73e7e630af9c"
      },
      "outputs": [
        {
          "name": "stdout",
          "output_type": "stream",
          "text": [
            "5\n",
            "6\n"
          ]
        }
      ],
      "source": [
        "#Menentukan jumlah total elemen suatu array\n",
        "#.size\n",
        "print(b.size)\n",
        "print(d.size)\n",
        "\n"
      ]
    },
    {
      "cell_type": "code",
      "execution_count": 7,
      "metadata": {
        "colab": {
          "base_uri": "https://localhost:8080/"
        },
        "id": "FAM9pgfpcmLY",
        "outputId": "1846e8e7-31ac-469b-c871-13d81909fbdb"
      },
      "outputs": [
        {
          "name": "stdout",
          "output_type": "stream",
          "text": [
            "[1 2 3 4 5]\n",
            "[1]\n",
            "[1 3 5]\n",
            "[2 4]\n",
            "[5 4 3 2 1]\n"
          ]
        }
      ],
      "source": [
        "#Indexing & Slicing\n",
        "# [START : END - 1 : STEP]\n",
        "\n",
        "print(b)\n",
        "print(b[0:1])\n",
        "print(b[::2])\n",
        "print(b[1::2])\n",
        "#Mengubah urutan array 1D dari belakang ke depan (Descending)\n",
        "\n",
        "print(b[::-1])\n"
      ]
    },
    {
      "cell_type": "markdown",
      "metadata": {
        "id": "2gpK6-h1cmLY"
      },
      "source": [
        "**NOMOR 1**\n",
        "\n",
        "Buatlah sebuah array seperti dibawah ini dan tambahkan setiap elemennya dengan `1`.\n",
        "\n",
        "```\n",
        "a = [10, 20, 30, 40, 50]\n",
        "```"
      ]
    },
    {
      "cell_type": "code",
      "execution_count": 8,
      "metadata": {
        "colab": {
          "base_uri": "https://localhost:8080/"
        },
        "id": "IhwCNQy5ZP3G",
        "outputId": "dbafcf9b-bcf2-4e2e-fa47-78bfebfbb5f6"
      },
      "outputs": [
        {
          "data": {
            "text/plain": [
              "array([10, 20, 30, 40, 50])"
            ]
          },
          "execution_count": 8,
          "metadata": {},
          "output_type": "execute_result"
        }
      ],
      "source": [
        "a = [10, 20, 30, 40, 50]\n",
        "a = np.array(a)\n",
        "a"
      ]
    },
    {
      "cell_type": "code",
      "execution_count": 9,
      "metadata": {
        "colab": {
          "base_uri": "https://localhost:8080/"
        },
        "id": "6tPkqOF_cmLZ",
        "outputId": "0535c7ca-09f3-42d8-9e05-2df8ba0e8023"
      },
      "outputs": [
        {
          "data": {
            "text/plain": [
              "array([11, 21, 31, 41, 51])"
            ]
          },
          "execution_count": 9,
          "metadata": {},
          "output_type": "execute_result"
        }
      ],
      "source": [
        "#Cara 1 : Menambahkan dengan bil. skalar\n",
        "a + 1\n",
        "\n"
      ]
    },
    {
      "cell_type": "code",
      "execution_count": 10,
      "metadata": {
        "colab": {
          "base_uri": "https://localhost:8080/"
        },
        "id": "6CWP_uutcmLa",
        "outputId": "7a64cbd8-0920-45b1-9f30-28af1f2888a3"
      },
      "outputs": [
        {
          "name": "stdout",
          "output_type": "stream",
          "text": [
            "[11. 21. 31. 41. 51.]\n"
          ]
        },
        {
          "data": {
            "text/plain": [
              "array([0., 0., 0.])"
            ]
          },
          "execution_count": 10,
          "metadata": {},
          "output_type": "execute_result"
        }
      ],
      "source": [
        "# Cara 2 : Menambahkan dengan \"Special Array\"\n",
        "#np.ones()\n",
        "\n",
        "print(a + np.ones(5))\n",
        "\n",
        "#np.zeros()\n",
        "np.zeros(3)"
      ]
    },
    {
      "cell_type": "markdown",
      "metadata": {
        "id": "2T15lXtucmLa"
      },
      "source": [
        "**NOMOR 2**\n",
        "\n",
        "Buatlah sebuah array seperti dibawah ini dan keluarkan element yang bernilai negatif.\n",
        "\n",
        "```\n",
        "b = [-3, 0, -2, 1, 2, 3, -4]\n",
        "```"
      ]
    },
    {
      "cell_type": "code",
      "execution_count": 11,
      "metadata": {
        "colab": {
          "base_uri": "https://localhost:8080/"
        },
        "id": "apFuZ2g-cmLa",
        "outputId": "41d1e3d2-9a9e-4c3d-ebd0-ea80ff51f98b"
      },
      "outputs": [
        {
          "data": {
            "text/plain": [
              "array([-3,  0, -2,  1,  2,  3, -4])"
            ]
          },
          "execution_count": 11,
          "metadata": {},
          "output_type": "execute_result"
        }
      ],
      "source": [
        "#Buat array\n",
        "b = [-3, 0, -2, 1, 2, 3, -4]\n",
        "b = np.array(b)\n",
        "b"
      ]
    },
    {
      "cell_type": "code",
      "execution_count": 12,
      "metadata": {
        "colab": {
          "base_uri": "https://localhost:8080/"
        },
        "id": "NsTUVNIGcmLa",
        "outputId": "38449c1b-d704-413e-b1db-79e2ba86b8cb"
      },
      "outputs": [
        {
          "data": {
            "text/plain": [
              "array([ True, False,  True, False, False, False,  True])"
            ]
          },
          "execution_count": 12,
          "metadata": {},
          "output_type": "execute_result"
        }
      ],
      "source": [
        "# Jika `b < 0` maka hanya akan dilakukan pengecekan apakah element di `b` kurang dari 0 atau tidak\n",
        "b<0\n",
        "\n"
      ]
    },
    {
      "cell_type": "code",
      "execution_count": 13,
      "metadata": {
        "colab": {
          "base_uri": "https://localhost:8080/"
        },
        "id": "TLc4J5GxcmLb",
        "outputId": "f1872966-d93b-4968-b4a8-3e74ed0ea92a"
      },
      "outputs": [
        {
          "data": {
            "text/plain": [
              "array([-3, -2, -4])"
            ]
          },
          "execution_count": 13,
          "metadata": {},
          "output_type": "execute_result"
        }
      ],
      "source": [
        "# Jika `b[b < 0]` maka element di `b` kurang dari 0 akan ditampilkan\n",
        "\n",
        "b[b<0]"
      ]
    },
    {
      "cell_type": "markdown",
      "metadata": {
        "id": "iTV0p0tecmLb"
      },
      "source": [
        "**NOMOR 3**\n",
        "\n",
        "Buatlah sebuah array seperti dibawah ini. Keluarkan element yang bernilai positif kemudian urutkan dari nilai yang kecil ke besar\n",
        "\n",
        "```\n",
        "c = [10, -8, 4, 5, -41, 7, 5, -4]\n",
        "```"
      ]
    },
    {
      "cell_type": "code",
      "execution_count": 14,
      "metadata": {
        "colab": {
          "base_uri": "https://localhost:8080/"
        },
        "id": "mEay01UEcmLb",
        "outputId": "4024b115-e851-4872-d719-e5e392a79fc1"
      },
      "outputs": [
        {
          "data": {
            "text/plain": [
              "array([ 10,  -8,   4,   5, -41,   7,   5,  -4])"
            ]
          },
          "execution_count": 14,
          "metadata": {},
          "output_type": "execute_result"
        }
      ],
      "source": [
        "#Buat array\n",
        "c = [10, -8, 4, 5, -41, 7, 5, -4]\n",
        "c = np.array(c)\n",
        "c"
      ]
    },
    {
      "cell_type": "code",
      "execution_count": 15,
      "metadata": {
        "colab": {
          "base_uri": "https://localhost:8080/"
        },
        "id": "jXJekUMWcmLb",
        "outputId": "e67e16ce-7df7-4921-badf-acf9ceb7f6e8"
      },
      "outputs": [
        {
          "data": {
            "text/plain": [
              "array([ 4,  5,  5,  7, 10])"
            ]
          },
          "execution_count": 15,
          "metadata": {},
          "output_type": "execute_result"
        }
      ],
      "source": [
        "# Sort elemen dari bilangan kecil ke besar\n",
        "#np.sort(nama_array)\n",
        "sorted = np.sort(c[c>0])\n",
        "sorted\n"
      ]
    },
    {
      "cell_type": "code",
      "execution_count": 16,
      "metadata": {
        "colab": {
          "base_uri": "https://localhost:8080/"
        },
        "id": "z_cqU76fcmLb",
        "outputId": "72c34d5e-db01-4577-f041-d71ad0cce731"
      },
      "outputs": [
        {
          "name": "stdout",
          "output_type": "stream",
          "text": [
            "[10  7  5  5  4]\n",
            "[10  7  5  5  4]\n"
          ]
        }
      ],
      "source": [
        "# Sort elemen dari bilangan besar ke kecil\n",
        "#sort dan Slicing dengan step = -1\n",
        "\n",
        "print(np.sort(c[c>0])[::-1])\n",
        "print(sorted[::-1])"
      ]
    },
    {
      "cell_type": "markdown",
      "metadata": {
        "id": "cUapjHxZcmLc"
      },
      "source": [
        "**NOMOR 4**\n",
        "\n",
        "Buatlah array seperti dibawah ini kemudian tumpukkan secara horizontal dan vertikal satu sama lain.\n",
        "\n",
        "```\n",
        "d = [1, 2, 3, 4, 5]\n",
        "e = [6, 7, 8, 9, 10]\n",
        "```"
      ]
    },
    {
      "cell_type": "code",
      "execution_count": 17,
      "metadata": {
        "colab": {
          "base_uri": "https://localhost:8080/"
        },
        "id": "zc2zgzt8cmLc",
        "outputId": "bed00452-7ffd-4468-86cc-5fd3cf8aa60b"
      },
      "outputs": [
        {
          "name": "stdout",
          "output_type": "stream",
          "text": [
            "[1 2 3 4 5]\n",
            "[ 6  7  8  9 10]\n"
          ]
        }
      ],
      "source": [
        "#Buat array\n",
        "d = [1, 2, 3, 4, 5]\n",
        "e = [6, 7, 8, 9, 10]\n",
        "d = np.array(d)\n",
        "e = np.array(e)\n",
        "print(d)\n",
        "print(e)"
      ]
    },
    {
      "cell_type": "code",
      "execution_count": 18,
      "metadata": {
        "colab": {
          "base_uri": "https://localhost:8080/"
        },
        "id": "YWdagAgScmLc",
        "outputId": "6f10cde0-93ec-4b0d-9a26-fe19d854e2ff"
      },
      "outputs": [
        {
          "name": "stdout",
          "output_type": "stream",
          "text": [
            "Stacking horizontal [ 1  2  3  4  5  6  7  8  9 10]\n",
            "Stacking Vertical \n",
            " [[ 1  2  3  4  5]\n",
            " [ 6  7  8  9 10]]\n"
          ]
        }
      ],
      "source": [
        "#Stacking Horizontal -> np.hstack((array1,array2))\n",
        "#Stacking Vertikal -> np.vstack((array1,array2))\n",
        "\n",
        "print('Stacking horizontal', np.hstack((d,e)))\n",
        "print('Stacking Vertical','\\n', np.vstack((d,e)))"
      ]
    },
    {
      "cell_type": "markdown",
      "metadata": {
        "id": "nNGGJxfWcmLc"
      },
      "source": [
        "**NOMOR 5**\n",
        "\n",
        "Buatlah dua buah array seperti dibawah ini yang berasal dari 1 deklarasi variabel yang sama. Kemudian, kalikan array pertama dengan `2` dan kalikan array kedua dengan `3`.\n",
        "\n",
        "```\n",
        "f = [10, 20, 30, 40, 50]\n",
        "```\n",
        "\n",
        "Ekspektasi output : \n",
        "```\n",
        "hasil perkalian dengan 2 -> [20, 40, 60, 80, 100] \n",
        "hasil perkalian dengan 3 -> [30, 60, 90, 120, 150]\n",
        "```"
      ]
    },
    {
      "cell_type": "code",
      "execution_count": 19,
      "metadata": {
        "colab": {
          "base_uri": "https://localhost:8080/"
        },
        "id": "JucB5Ec9cmLc",
        "outputId": "4363c467-f7b6-42a2-bfc4-670b54e3a9e4"
      },
      "outputs": [
        {
          "data": {
            "text/plain": [
              "array([10, 20, 30, 40, 50])"
            ]
          },
          "execution_count": 19,
          "metadata": {},
          "output_type": "execute_result"
        }
      ],
      "source": [
        "#Buat array f\n",
        "\n",
        "f = [10, 20, 30, 40, 50]\n",
        "f = np.array(f)\n",
        "f\n",
        "\n"
      ]
    },
    {
      "cell_type": "code",
      "execution_count": 20,
      "metadata": {
        "colab": {
          "base_uri": "https://localhost:8080/"
        },
        "id": "C7Zd9-T8cmLd",
        "outputId": "1b059a78-b5fc-438c-f75e-921750b77162"
      },
      "outputs": [
        {
          "data": {
            "text/plain": [
              "array([10, 20, 30, 40, 50])"
            ]
          },
          "execution_count": 20,
          "metadata": {},
          "output_type": "execute_result"
        }
      ],
      "source": [
        "#Copy array f ke variabel baru\n",
        "\n",
        "f2 = f.copy()\n",
        "f2"
      ]
    },
    {
      "cell_type": "code",
      "execution_count": 21,
      "metadata": {
        "colab": {
          "base_uri": "https://localhost:8080/"
        },
        "id": "hcdylbuncmLd",
        "outputId": "8283aed3-5041-4952-f6e8-a3972304efdb"
      },
      "outputs": [
        {
          "name": "stdout",
          "output_type": "stream",
          "text": [
            "[ 20  40  60  80 100]\n",
            "[ 30  60  90 120 150]\n"
          ]
        }
      ],
      "source": [
        "#Kalikan masing2 variabel\n",
        "print(f*2)\n",
        "print(f2*3)\n"
      ]
    },
    {
      "cell_type": "markdown",
      "metadata": {
        "id": "S1uAzp77cmLd"
      },
      "source": [
        "**NOMOR 6**\n",
        "\n",
        "Buatlah sebuah array seperti dibawah ini dan hitung total jumlahnya.\n",
        "\n",
        "```\n",
        "h = [1, 2, 3, 4, 5]\n",
        "j = [ [1, 2, 3],\n",
        "      [4, 5, 6]]\n",
        "```\n",
        "\n",
        "Ekspektasi output :\n",
        "\n",
        "```\n",
        "total nilai h = 15\n",
        "total nilai j berdasarkan penjumlahan baris = [6, 15]\n",
        "total nilai j berdasarkan penjumlahan kolom = [5, 7, 9]\n",
        "```"
      ]
    },
    {
      "cell_type": "code",
      "execution_count": 22,
      "metadata": {
        "colab": {
          "base_uri": "https://localhost:8080/"
        },
        "id": "z08nMB1vcmLd",
        "outputId": "0156c14c-8ae2-412d-faa7-da99e516bfaa"
      },
      "outputs": [
        {
          "name": "stdout",
          "output_type": "stream",
          "text": [
            "[1 2 3 4 5] \n",
            " [[1 2 3]\n",
            " [4 5 6]]\n"
          ]
        }
      ],
      "source": [
        "#Buat array\n",
        "h = [1, 2, 3, 4, 5]\n",
        "j = [ [1, 2, 3],\n",
        "      [4, 5, 6]]\n",
        "h = np.array(h)\n",
        "j = np.array(j)\n",
        "print(h,'\\n',j)"
      ]
    },
    {
      "cell_type": "code",
      "execution_count": 23,
      "metadata": {
        "colab": {
          "base_uri": "https://localhost:8080/"
        },
        "id": "n65p6pDXcmLd",
        "outputId": "a23e6d0d-6698-433b-d3fb-e5c5fd70d14e"
      },
      "outputs": [
        {
          "name": "stdout",
          "output_type": "stream",
          "text": [
            "Total nilai h =  15\n"
          ]
        }
      ],
      "source": [
        "#jumlahkan array h\n",
        "#.sum()\n",
        "print('Total nilai h = ', h.sum())\n"
      ]
    },
    {
      "cell_type": "code",
      "execution_count": 24,
      "metadata": {
        "colab": {
          "base_uri": "https://localhost:8080/"
        },
        "id": "ASk5g1VwcmLd",
        "outputId": "bd006e32-995c-4fd7-c210-a9e81bc05246"
      },
      "outputs": [
        {
          "name": "stdout",
          "output_type": "stream",
          "text": [
            "total nilai j berdasarkan penjumlahan baris =  [ 6 15]\n"
          ]
        }
      ],
      "source": [
        "#Penjumlahan berdasarkan baris\n",
        "#baris -> axis = 1\n",
        "print('total nilai j berdasarkan penjumlahan baris = ', j.sum(axis = 1))\n",
        "\n"
      ]
    },
    {
      "cell_type": "code",
      "execution_count": 25,
      "metadata": {
        "colab": {
          "base_uri": "https://localhost:8080/"
        },
        "id": "Jrm1Jr5icmLd",
        "outputId": "be6bf9c7-4d4e-4023-b923-97020909e2a7"
      },
      "outputs": [
        {
          "name": "stdout",
          "output_type": "stream",
          "text": [
            "total nilai j berdasarkan penjumlahan kolom =  [5 7 9]\n"
          ]
        }
      ],
      "source": [
        "#Penjumlahan berdasarkan kolom\n",
        "# kolom -> axis = 0\n",
        "\n",
        "print('total nilai j berdasarkan penjumlahan kolom = ', j.sum(axis = 0))\n",
        "\n"
      ]
    },
    {
      "cell_type": "markdown",
      "metadata": {
        "id": "KTsEE9GvcmLd"
      },
      "source": [
        "**NOMOR 7**\n",
        "\n",
        "Buatlah sebuah array seperti dibawah ini dan cari nilai `min`, `max`, dan `sum` per baris dan per kolom.\n",
        "\n",
        "```\n",
        "k = [ [1, 2, 3],\n",
        "      [4, 5, 6]]\n",
        "```"
      ]
    },
    {
      "cell_type": "code",
      "execution_count": 26,
      "metadata": {
        "colab": {
          "base_uri": "https://localhost:8080/"
        },
        "id": "RmHUIiYrcmLd",
        "outputId": "b34e8561-2c7a-4dfc-ffd7-7c255b301638"
      },
      "outputs": [
        {
          "data": {
            "text/plain": [
              "array([[1, 2, 3],\n",
              "       [4, 5, 6]])"
            ]
          },
          "execution_count": 26,
          "metadata": {},
          "output_type": "execute_result"
        }
      ],
      "source": [
        "#Buat array\n",
        "k = [ [1, 2, 3],\n",
        "      [4, 5, 6]]\n",
        "k = np.array(k)\n",
        "k"
      ]
    },
    {
      "cell_type": "code",
      "execution_count": 27,
      "metadata": {
        "colab": {
          "base_uri": "https://localhost:8080/"
        },
        "id": "OTbCFCMTcmLe",
        "outputId": "dc9d00ac-4e91-4b6d-ac92-39bd0f338377"
      },
      "outputs": [
        {
          "name": "stdout",
          "output_type": "stream",
          "text": [
            "total nilai k per baris =  [ 6 15]\n",
            "total nilai k per kolom =  [5 7 9]\n",
            "nilai k maximum per baris =  [3 6]\n",
            "nilai k maximum per kolom =  [4 5 6]\n",
            "nilai k minimum per baris =  [1 4]\n",
            "nilai k minimum per kolom =  [1 2 3]\n"
          ]
        }
      ],
      "source": [
        "#Mencari nilai minimum -> .min()\n",
        "#Mencari nilai maximum - > .max()\n",
        "#Mencari nilai total -> .sum()\n",
        "\n",
        "#Mencari nilai minimum -> .min()\n",
        "#Mencari nilai maximum - > .max()\n",
        "#Mencari nilai total -> .sum()\n",
        "\n",
        "print('total nilai k per baris = ', k.sum(axis =1))\n",
        "print('total nilai k per kolom = ', k.sum(axis =0))\n",
        "\n",
        "print('nilai k maximum per baris = ', k.max(axis =1))\n",
        "print('nilai k maximum per kolom = ', k.max(axis =0))\n",
        "\n",
        "print('nilai k minimum per baris = ', k.min(axis =1))\n",
        "print('nilai k minimum per kolom = ', k.min(axis =0))\n",
        "\n"
      ]
    },
    {
      "cell_type": "markdown",
      "metadata": {
        "id": "hzXakCZ-cmLe"
      },
      "source": [
        "**NOMOR 8**\n",
        "\n",
        "Buatlah sebuah array seperti dibawah ini dan cari baris kedua dan kolom kedua.\n",
        "\n",
        "```\n",
        "n = [ [1, 2, 3], \n",
        "      [4, 5, 6],\n",
        "      [7, 8, 9]]\n",
        "```"
      ]
    },
    {
      "cell_type": "code",
      "execution_count": 28,
      "metadata": {
        "colab": {
          "base_uri": "https://localhost:8080/"
        },
        "id": "8zVwJHARcmLe",
        "outputId": "d8e745ac-eb98-4fec-c808-2b2c6289502c"
      },
      "outputs": [
        {
          "data": {
            "text/plain": [
              "array([[1, 2, 3],\n",
              "       [4, 5, 6],\n",
              "       [7, 8, 9]])"
            ]
          },
          "execution_count": 28,
          "metadata": {},
          "output_type": "execute_result"
        }
      ],
      "source": [
        "#Buat array\n",
        "n = [ [1, 2, 3], \n",
        "      [4, 5, 6],\n",
        "      [7, 8, 9]]\n",
        "n = np.array(n)\n",
        "n"
      ]
    },
    {
      "cell_type": "code",
      "execution_count": 29,
      "metadata": {
        "colab": {
          "base_uri": "https://localhost:8080/"
        },
        "id": "gX7ndiqJcmLe",
        "outputId": "1c4f1105-2292-4f25-82c5-c59485e243e7"
      },
      "outputs": [
        {
          "data": {
            "text/plain": [
              "1"
            ]
          },
          "execution_count": 29,
          "metadata": {},
          "output_type": "execute_result"
        }
      ],
      "source": [
        "#Get baris&Kolom\n",
        "# nama_array[baris,kolom]\n",
        "\n",
        "n[0,0]"
      ]
    },
    {
      "cell_type": "code",
      "execution_count": 30,
      "metadata": {
        "colab": {
          "base_uri": "https://localhost:8080/"
        },
        "id": "cQPbgLuOcmLe",
        "outputId": "7ac78e7e-97aa-4b9f-ccf9-1dd4c5cae709"
      },
      "outputs": [
        {
          "name": "stdout",
          "output_type": "stream",
          "text": [
            "[1 2 3]\n",
            "[1 2 3]\n"
          ]
        }
      ],
      "source": [
        "# Get baris kedua\n",
        "# Bisa menggunakan n[1] atau n[1, :]\n",
        "\n",
        "print(n[0])\n",
        "print(n[0,:])\n",
        "\n"
      ]
    },
    {
      "cell_type": "code",
      "execution_count": 31,
      "metadata": {
        "colab": {
          "base_uri": "https://localhost:8080/"
        },
        "id": "WkO5IfGtcmLe",
        "outputId": "5e82b884-8eae-4291-8ee4-e33cbaaba6cb"
      },
      "outputs": [
        {
          "name": "stdout",
          "output_type": "stream",
          "text": [
            "[2 5 8]\n"
          ]
        }
      ],
      "source": [
        "# Get kolom kedua (menampilkan secara array 1D)\n",
        "#n[:, 1]\n",
        "print(n[:,1])\n"
      ]
    },
    {
      "cell_type": "code",
      "execution_count": 32,
      "metadata": {
        "colab": {
          "base_uri": "https://localhost:8080/"
        },
        "id": "5PNo251hcmLf",
        "outputId": "d0e903d2-c897-469c-cf31-ea07689a47da"
      },
      "outputs": [
        {
          "name": "stdout",
          "output_type": "stream",
          "text": [
            "[[3]\n",
            " [6]\n",
            " [9]]\n"
          ]
        }
      ],
      "source": [
        "# Get kolom kedua (menampilkan secara array 2D)\n",
        "# nama_array[:, [index_kolom]]\n",
        "\n",
        "print(n[:,[2]])\n",
        "\n"
      ]
    },
    {
      "cell_type": "code",
      "execution_count": 33,
      "metadata": {
        "colab": {
          "base_uri": "https://localhost:8080/"
        },
        "id": "m-qY0hTgcmLf",
        "outputId": "dfcff521-1ec3-4296-ab38-9e9f1b93c11d"
      },
      "outputs": [
        {
          "data": {
            "text/plain": [
              "array([[1, 0, 0],\n",
              "       [0, 5, 0],\n",
              "       [0, 0, 9]])"
            ]
          },
          "execution_count": 33,
          "metadata": {},
          "output_type": "execute_result"
        }
      ],
      "source": [
        "# Get elemen diagonal (dari kiri ke kanan)\n",
        "# np.diag()\n",
        "# buka dokumentasi\n",
        "np.diag(np.diag(n))\n"
      ]
    },
    {
      "cell_type": "code",
      "execution_count": 34,
      "metadata": {
        "colab": {
          "base_uri": "https://localhost:8080/"
        },
        "id": "BSA_rROWcmLf",
        "outputId": "e67bf8e4-546d-4d9d-b585-368a945d0c12"
      },
      "outputs": [
        {
          "data": {
            "text/plain": [
              "array([3, 5, 7])"
            ]
          },
          "execution_count": 34,
          "metadata": {},
          "output_type": "execute_result"
        }
      ],
      "source": [
        "# Get elemen diagonal (dari kanan ke kiri)\n",
        "# np.diag(np.fliplr(n))\n",
        "\n",
        "np.diag(np.fliplr(n))\n",
        "\n"
      ]
    },
    {
      "cell_type": "markdown",
      "metadata": {
        "id": "7NsZ4kOycmLf"
      },
      "source": [
        "**NOMOR 9**\n",
        "\n",
        "Buatlah sebuah array seperti dibawah ini dan cari nilai `min`, `max`, dan `sum` untuk baris kedua dan kolom kedua.\n",
        "\n",
        "```\n",
        "m = [ [1, 2, 3], \n",
        "      [4, 5, 6],\n",
        "      [7, 8, 9]]\n",
        "```"
      ]
    },
    {
      "cell_type": "code",
      "execution_count": 35,
      "metadata": {
        "colab": {
          "base_uri": "https://localhost:8080/"
        },
        "id": "xIoEWukJcmLf",
        "outputId": "c077a5c7-cd69-4d75-d127-87d23f47baa2"
      },
      "outputs": [
        {
          "data": {
            "text/plain": [
              "array([[1, 2, 3],\n",
              "       [4, 5, 6],\n",
              "       [7, 8, 9]])"
            ]
          },
          "execution_count": 35,
          "metadata": {},
          "output_type": "execute_result"
        }
      ],
      "source": [
        "#Buat array\n",
        "m = [ [1, 2, 3], \n",
        "      [4, 5, 6],\n",
        "      [7, 8, 9]]\n",
        "m = np.array(m)\n",
        "m"
      ]
    },
    {
      "cell_type": "code",
      "execution_count": 36,
      "metadata": {
        "colab": {
          "base_uri": "https://localhost:8080/"
        },
        "id": "MSc4nrGMcmLf",
        "outputId": "58683db8-f2aa-43aa-e9cc-5948be134fa6"
      },
      "outputs": [
        {
          "name": "stdout",
          "output_type": "stream",
          "text": [
            "[4 5 6]\n",
            "[2 5 8]\n"
          ]
        }
      ],
      "source": [
        "#buat variabel yang berisikan baris ke 2\n",
        "sec_row = m[1]\n",
        "print(sec_row)\n",
        "\n",
        "#buat variabel yang berisikan kolom ke 2\n",
        "sec_col = m[:,1]\n",
        "print(sec_col)\n"
      ]
    },
    {
      "cell_type": "code",
      "execution_count": 37,
      "metadata": {
        "colab": {
          "base_uri": "https://localhost:8080/"
        },
        "id": "xGOEGPoKcmLf",
        "outputId": "4a71134c-57c1-4384-b5a8-7b0c1f35e75f"
      },
      "outputs": [
        {
          "name": "stdout",
          "output_type": "stream",
          "text": [
            "Total jumlah array m =  45\n",
            "Total jumlah kolom kedua array m =  15\n",
            "Total jumlah baris kedua array m =  15\n",
            "Nilai minimum array m =  1\n",
            "Nilai minimum dari kolom kedua array m =  2\n",
            "Nilai minimum dari baris kedua array m =  4\n",
            "Nilai maximum array m =  9\n",
            "Nilai maximum dari kolom kedua array m =  8\n",
            "Nilai maximum dari baris kedua array m =  6\n"
          ]
        }
      ],
      "source": [
        "#Cari masing2 nilai sum, min, dan max\n",
        "#Cari masing2 nilai sum, min, dan max\n",
        "print('Total jumlah array m = ', np.sum(m))\n",
        "print ('Total jumlah kolom kedua array m = ', np.sum(sec_col)) #column\n",
        "print ('Total jumlah baris kedua array m = ', np.sum(sec_row)) #row\n",
        "\n",
        "print('Nilai minimum array m = ',np.min(m))\n",
        "print ('Nilai minimum dari kolom kedua array m = ', np.min(sec_col)) #column\n",
        "print ('Nilai minimum dari baris kedua array m = ', np.min(sec_row)) #row\n",
        "\n",
        "print('Nilai maximum array m = ', np.max(m))\n",
        "print ('Nilai maximum dari kolom kedua array m = ',np.max(sec_col)) #column\n",
        "print ('Nilai maximum dari baris kedua array m = ',np.max(sec_row)) #row\n",
        "\n",
        "\n"
      ]
    },
    {
      "cell_type": "markdown",
      "metadata": {
        "id": "54EE0Na_cmLf"
      },
      "source": [
        "**NOMOR 10**\n",
        "\n",
        "<img src='https://i.ibb.co/JvBzgWn/greyscale.png'>\n",
        "\n",
        "Download image [disini](https://i.ibb.co/JvBzgWn/greyscale.png)\n",
        "\n",
        "* Load gambar tersebut dengan menggunakan library matplotlib.\n",
        "* Jawab pertanyaan berikut ini : \n",
        "  - Berapa ukuran gambar tersebut.\n",
        "  - Berapa total piksel/element pada gambar tersebut.\n",
        "  - Cerahkan gambar tersebut dengan menambahkan suatu angka."
      ]
    },
    {
      "cell_type": "code",
      "execution_count": 38,
      "metadata": {
        "colab": {
          "base_uri": "https://localhost:8080/"
        },
        "id": "y9PgcS4TcmLf",
        "outputId": "d148b543-4b2c-4413-da50-2154f0f26996"
      },
      "outputs": [
        {
          "name": "stdout",
          "output_type": "stream",
          "text": [
            "Requirement already satisfied: matplotlib in c:\\users\\asus\\anaconda3\\lib\\site-packages (3.5.1)\n",
            "Requirement already satisfied: pillow>=6.2.0 in c:\\users\\asus\\anaconda3\\lib\\site-packages (from matplotlib) (9.0.1)\n",
            "Requirement already satisfied: kiwisolver>=1.0.1 in c:\\users\\asus\\anaconda3\\lib\\site-packages (from matplotlib) (1.3.2)\n",
            "Requirement already satisfied: python-dateutil>=2.7 in c:\\users\\asus\\anaconda3\\lib\\site-packages (from matplotlib) (2.8.2)\n",
            "Requirement already satisfied: fonttools>=4.22.0 in c:\\users\\asus\\anaconda3\\lib\\site-packages (from matplotlib) (4.25.0)\n",
            "Requirement already satisfied: pyparsing>=2.2.1 in c:\\users\\asus\\anaconda3\\lib\\site-packages (from matplotlib) (3.0.4)\n",
            "Requirement already satisfied: packaging>=20.0 in c:\\users\\asus\\anaconda3\\lib\\site-packages (from matplotlib) (21.3)\n",
            "Requirement already satisfied: numpy>=1.17 in c:\\users\\asus\\anaconda3\\lib\\site-packages (from matplotlib) (1.21.5)\n",
            "Requirement already satisfied: cycler>=0.10 in c:\\users\\asus\\anaconda3\\lib\\site-packages (from matplotlib) (0.11.0)\n",
            "Requirement already satisfied: six>=1.5 in c:\\users\\asus\\anaconda3\\lib\\site-packages (from python-dateutil>=2.7->matplotlib) (1.16.0)\n"
          ]
        }
      ],
      "source": [
        "#Install matplotlib in jupyter\n",
        "import sys  \n",
        "!{sys.executable} -m pip install --user matplotlib"
      ]
    },
    {
      "cell_type": "code",
      "execution_count": 39,
      "metadata": {
        "id": "Td9P2pkycmLg"
      },
      "outputs": [],
      "source": [
        "#Import matplotlib\n",
        "import matplotlib.pyplot as plt\n"
      ]
    },
    {
      "cell_type": "code",
      "execution_count": 40,
      "metadata": {
        "id": "Fa1Uq-zacmLg"
      },
      "outputs": [],
      "source": [
        "#Baca gambar menggunakan plt.imread('location_gambar') lalu masukkan ke variabel\n",
        "img = plt.imread('greyscale.png')\n"
      ]
    },
    {
      "cell_type": "code",
      "execution_count": 41,
      "metadata": {
        "colab": {
          "base_uri": "https://localhost:8080/"
        },
        "id": "_Srt-HKKcmLg",
        "outputId": "0277ad97-8237-4d45-9ad9-9c6cc10210dc"
      },
      "outputs": [
        {
          "data": {
            "text/plain": [
              "(700, 1120)"
            ]
          },
          "execution_count": 41,
          "metadata": {},
          "output_type": "execute_result"
        }
      ],
      "source": [
        "#Cek ukuran gambar\n",
        "#.shape\n",
        "\n",
        "img.shape\n"
      ]
    },
    {
      "cell_type": "code",
      "execution_count": 42,
      "metadata": {
        "colab": {
          "base_uri": "https://localhost:8080/"
        },
        "id": "ViEQQlefhw8G",
        "outputId": "a631cab7-7f4f-44f6-cfb9-370cac549543"
      },
      "outputs": [
        {
          "data": {
            "text/plain": [
              "2"
            ]
          },
          "execution_count": 42,
          "metadata": {},
          "output_type": "execute_result"
        }
      ],
      "source": [
        "img.ndim"
      ]
    },
    {
      "cell_type": "code",
      "execution_count": 43,
      "metadata": {
        "colab": {
          "base_uri": "https://localhost:8080/"
        },
        "id": "gQ0M88HZcmLg",
        "outputId": "0273dbc6-5a82-476a-c96c-894c69093ebf"
      },
      "outputs": [
        {
          "data": {
            "text/plain": [
              "784000"
            ]
          },
          "execution_count": 43,
          "metadata": {},
          "output_type": "execute_result"
        }
      ],
      "source": [
        "# Total Piksel\n",
        "#.size\n",
        "\n",
        "img.size"
      ]
    },
    {
      "cell_type": "code",
      "execution_count": 44,
      "metadata": {
        "colab": {
          "base_uri": "https://localhost:8080/"
        },
        "id": "dhPYPXhzcmLg",
        "outputId": "800ad5d2-0a7d-4089-e1fb-254c215f8e99"
      },
      "outputs": [
        {
          "data": {
            "text/plain": [
              "array([[0.37254903, 0.3529412 , 0.34509805, ..., 0.        , 0.        ,\n",
              "        0.        ],\n",
              "       [0.38431373, 0.36078432, 0.34509805, ..., 0.        , 0.        ,\n",
              "        0.        ],\n",
              "       [0.3882353 , 0.36078432, 0.34117648, ..., 0.        , 0.        ,\n",
              "        0.        ],\n",
              "       ...,\n",
              "       [0.08235294, 0.07450981, 0.09411765, ..., 0.0627451 , 0.0627451 ,\n",
              "        0.06666667],\n",
              "       [0.07843138, 0.07450981, 0.10588235, ..., 0.06666667, 0.06666667,\n",
              "        0.06666667],\n",
              "       [0.05882353, 0.07058824, 0.12156863, ..., 0.07843138, 0.07843138,\n",
              "        0.07843138]], dtype=float32)"
            ]
          },
          "execution_count": 44,
          "metadata": {},
          "output_type": "execute_result"
        }
      ],
      "source": [
        "#Nilai piksel\n",
        "#img, udah di scalling\n",
        "\n",
        "img\n"
      ]
    },
    {
      "cell_type": "code",
      "execution_count": 45,
      "metadata": {
        "colab": {
          "base_uri": "https://localhost:8080/"
        },
        "id": "FIQlTahocmLg",
        "outputId": "9ccfaa2b-f760-49da-91a1-edd05b877a01"
      },
      "outputs": [
        {
          "data": {
            "text/plain": [
              "numpy.ndarray"
            ]
          },
          "execution_count": 45,
          "metadata": {},
          "output_type": "execute_result"
        }
      ],
      "source": [
        "#Memastikan tipe data menjadi array\n",
        "#np.asarray()\n",
        "\n",
        "img = np.asarray(img)\n",
        "type(img)\n"
      ]
    },
    {
      "cell_type": "code",
      "execution_count": 46,
      "metadata": {
        "colab": {
          "base_uri": "https://localhost:8080/"
        },
        "id": "PkREJKzWcmLg",
        "outputId": "acfcc8a1-9f20-4891-fa55-1c83c5baeb83"
      },
      "outputs": [
        {
          "data": {
            "text/plain": [
              "0.3137254901960784"
            ]
          },
          "execution_count": 46,
          "metadata": {},
          "output_type": "execute_result"
        }
      ],
      "source": [
        "#Menentukan nilai yg akan ditambahkan ke piksel\n",
        "#Ubah ke skala 0-1, divide by 255 (highest pixel value)\n",
        "\n",
        "added_value = 80\n",
        "added_value = 80/255\n",
        "added_value\n"
      ]
    },
    {
      "cell_type": "code",
      "execution_count": 47,
      "metadata": {
        "id": "ngx6kZPicmLh"
      },
      "outputs": [],
      "source": [
        "#Copy datanya dulu (penting setiap ingin memodifikasi data) ke variabel baru\n",
        "new_img = img.copy()\n",
        "\n",
        "#tambahkan nilai piksel ke gambar\n",
        "\n",
        "new_img = new_img + added_value\n"
      ]
    },
    {
      "cell_type": "code",
      "execution_count": 48,
      "metadata": {
        "colab": {
          "base_uri": "https://localhost:8080/",
          "height": 278
        },
        "id": "sPPDob8gcmLh",
        "outputId": "03b0ea93-feb8-4b39-d100-6e1bc4ff5be8"
      },
      "outputs": [
        {
          "data": {
            "text/plain": [
              "<matplotlib.image.AxesImage at 0x25c29fed6d0>"
            ]
          },
          "execution_count": 48,
          "metadata": {},
          "output_type": "execute_result"
        },
        {
          "data": {
            "image/png": "[encoded data removed]",
            "text/plain": [
              "<Figure size 432x288 with 1 Axes>"
            ]
          },
          "metadata": {
            "needs_background": "light"
          },
          "output_type": "display_data"
        }
      ],
      "source": [
        "# Menampilkan gambar original\n",
        "# `img` : array gambar\n",
        "# `cmap` : color map #figure\n",
        "# `vmin` : value minimum #figure\n",
        "# `vmax` : value maximum #figure\n",
        "#plt.imshow(nama_variabel, cmap='gray', vmin=0, vmax=1)\n",
        "\n",
        "plt.imshow(img, cmap='gray', vmin=0, vmax=1)\n"
      ]
    },
    {
      "cell_type": "code",
      "execution_count": 49,
      "metadata": {
        "colab": {
          "base_uri": "https://localhost:8080/",
          "height": 278
        },
        "id": "c7G3g2XtcmLh",
        "outputId": "a8dba591-e211-4716-be9b-8dc542c1e850"
      },
      "outputs": [
        {
          "data": {
            "text/plain": [
              "<matplotlib.image.AxesImage at 0x25c2ab71310>"
            ]
          },
          "execution_count": 49,
          "metadata": {},
          "output_type": "execute_result"
        },
        {
          "data": {
            "image/png": "[encoded data removed]",
            "text/plain": [
              "<Figure size 432x288 with 1 Axes>"
            ]
          },
          "metadata": {
            "needs_background": "light"
          },
          "output_type": "display_data"
        }
      ],
      "source": [
        "# Menampilkan gambar yg sudah ditambah suatu value\n",
        "\n",
        "plt.imshow(new_img, cmap = 'gray', vmin=0, vmax=1)"
      ]
    },
    {
      "cell_type": "code",
      "execution_count": 50,
      "metadata": {
        "id": "qYLCtKRY36Jr"
      },
      "outputs": [],
      "source": [
        "#Save fig\n",
        "plt.imsave('image_baru.png', new_img)"
      ]
    },
    {
      "cell_type": "code",
      "execution_count": null,
      "metadata": {
        "id": "kPK1hD2zvbM8"
      },
      "outputs": [],
      "source": []
    }
  ],
  "metadata": {
    "colab": {
      "collapsed_sections": [],
      "name": "Latihan_numpy_array.ipynb",
      "provenance": []
    },
    "kernelspec": {
      "display_name": "Python 3.9.12 ('base')",
      "language": "python",
      "name": "python3"
    },
    "language_info": {
      "codemirror_mode": {
        "name": "ipython",
        "version": 3
      },
      "file_extension": ".py",
      "mimetype": "text/x-python",
      "name": "python",
      "nbconvert_exporter": "python",
      "pygments_lexer": "ipython3",
      "version": "3.9.12"
    },
    "orig_nbformat": 4,
    "vscode": {
      "interpreter": {
        "hash": "a90aeebcf29d64a654773811cc170cb25061cb2498f10ac689db374c7bf325de"
      }
    }
  },
  "nbformat": 4,
  "nbformat_minor": 0
}

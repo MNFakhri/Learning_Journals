{
  "cells": [
    {
      "cell_type": "markdown",
      "metadata": {
        "id": "u7fb2b_bcmLR"
      },
      "source": [
        "## Latihan Numpy \n"
      ]
    },
    {
      "cell_type": "code",
      "execution_count": 1,
      "metadata": {
        "id": "trMq9Uk5cmLV"
      },
      "outputs": [],
      "source": [
        "#Import Library\n",
        "import numpy as np"
      ]
    },
    {
      "cell_type": "code",
      "execution_count": 2,
      "metadata": {
        "id": "SmvDl-10cmLW"
      },
      "outputs": [
        {
          "data": {
            "text/plain": [
              "array([1, 2, 3, 4, 5])"
            ]
          },
          "execution_count": 2,
          "metadata": {},
          "output_type": "execute_result"
        }
      ],
      "source": [
        "# Perubahan dari List ke Array\n",
        "# np.array()\n",
        "\n",
        "a = [1,2,3,4,5]\n",
        "type(a)\n",
        "\n",
        "b = np.array(a)\n",
        "b"
      ]
    },
    {
      "cell_type": "code",
      "execution_count": 3,
      "metadata": {
        "id": "83zSuu09cmLX"
      },
      "outputs": [
        {
          "name": "stdout",
          "output_type": "stream",
          "text": [
            "[[1 2 3]\n",
            " [4 5 6]]\n",
            "<class 'numpy.ndarray'>\n",
            "2\n"
          ]
        }
      ],
      "source": [
        "# Membuat Array 2D\n",
        "# Lihat seberapa banyak kurung siku di awal untuk menentukan jumlah dimensi atau .ndim\n",
        "\n",
        "c = [[1,2,3], [4,5,6]]\n",
        "d = np.array(c)\n",
        "\n",
        "print(d)\n",
        "print(type(d))\n",
        "\n",
        "print(d.ndim)"
      ]
    },
    {
      "cell_type": "code",
      "execution_count": 4,
      "metadata": {},
      "outputs": [
        {
          "name": "stdout",
          "output_type": "stream",
          "text": [
            "[[1 2 3]\n",
            " [4 5 6]\n",
            " [7 8 9]]\n",
            "<class 'numpy.ndarray'>\n",
            "2\n"
          ]
        }
      ],
      "source": [
        "e = [[1,2,3],[4,5,6],[7,8,9]]\n",
        "f = np.array(e)\n",
        "print(f)\n",
        "print(type(f))\n",
        "print(f.ndim)"
      ]
    },
    {
      "cell_type": "code",
      "execution_count": 5,
      "metadata": {},
      "outputs": [
        {
          "name": "stdout",
          "output_type": "stream",
          "text": [
            "[[[1 2 3]\n",
            "  [4 5 6]\n",
            "  [7 8 9]]\n",
            "\n",
            " [[1 2 3]\n",
            "  [4 5 6]\n",
            "  [7 8 9]]]\n",
            "<class 'numpy.ndarray'>\n",
            "3\n"
          ]
        }
      ],
      "source": [
        "# ini namanya tensor\n",
        "\n",
        "g = [[[1,2,3],[4,5,6],[7,8,9]],[[1,2,3],[4,5,6],[7,8,9]]]\n",
        "h = np.array(g)\n",
        "print(h)\n",
        "print(type(h))\n",
        "print(h.ndim)"
      ]
    },
    {
      "cell_type": "code",
      "execution_count": 6,
      "metadata": {
        "id": "323Y5JEGcmLX"
      },
      "outputs": [
        {
          "name": "stdout",
          "output_type": "stream",
          "text": [
            "[[[1 2 3]\n",
            "  [4 5 6]\n",
            "  [7 8 9]]\n",
            "\n",
            " [[1 2 3]\n",
            "  [4 5 6]\n",
            "  [7 8 9]]]\n",
            "(2, 3, 3)\n"
          ]
        }
      ],
      "source": [
        "#Menentukan ukuran suatu array\n",
        "#.shape\n",
        "\n",
        "print(h)\n",
        "print(h.shape)\n"
      ]
    },
    {
      "cell_type": "code",
      "execution_count": 7,
      "metadata": {
        "id": "CcfStXT0cmLY"
      },
      "outputs": [
        {
          "name": "stdout",
          "output_type": "stream",
          "text": [
            "[[[1 2 3]\n",
            "  [4 5 6]\n",
            "  [7 8 9]]\n",
            "\n",
            " [[1 2 3]\n",
            "  [4 5 6]\n",
            "  [7 8 9]]]\n",
            "18\n"
          ]
        }
      ],
      "source": [
        "#Menentukan jumlah total elemen suatu array\n",
        "#.size\n",
        "\n",
        "print(h)\n",
        "print(h.size)"
      ]
    },
    {
      "cell_type": "code",
      "execution_count": 55,
      "metadata": {
        "id": "FAM9pgfpcmLY"
      },
      "outputs": [
        {
          "name": "stdout",
          "output_type": "stream",
          "text": [
            "[-3  0 -2  1  2  3 -4]\n",
            "[-3  0 -2]\n",
            "[-3  1 -4]\n",
            "[0]\n"
          ]
        }
      ],
      "source": [
        "#Indexing & Slicing\n",
        "\n",
        "print(b)\n",
        "print(b[0:3])\n",
        "print(b[::3])\n",
        "print(b[1:2:3])"
      ]
    },
    {
      "cell_type": "code",
      "execution_count": 56,
      "metadata": {},
      "outputs": [
        {
          "name": "stdout",
          "output_type": "stream",
          "text": [
            "[-4  3  2  1 -2  0 -3]\n"
          ]
        }
      ],
      "source": [
        "#Mengubah urutan array 1D dari belakang ke depan (Descending)\n",
        "print(b[::-1])\n"
      ]
    },
    {
      "cell_type": "markdown",
      "metadata": {
        "id": "2gpK6-h1cmLY"
      },
      "source": [
        "**NOMOR 1**\n",
        "\n",
        "Buatlah sebuah array seperti dibawah ini dan tambahkan setiap elemennya dengan `1`.\n",
        "\n",
        "```\n",
        "a = [10, 20, 30, 40, 50]\n",
        "```"
      ]
    },
    {
      "cell_type": "code",
      "execution_count": 58,
      "metadata": {
        "id": "6tPkqOF_cmLZ"
      },
      "outputs": [
        {
          "name": "stdout",
          "output_type": "stream",
          "text": [
            "[11 21 31 41 51]\n"
          ]
        }
      ],
      "source": [
        "#Cara 1 : Menambahkan dengan bil. skalar\n",
        "a = [10,20,30,40,50]\n",
        "b = np.array(a)\n",
        "\n",
        "c = 1 + b\n",
        "print(c)\n"
      ]
    },
    {
      "cell_type": "code",
      "execution_count": 59,
      "metadata": {
        "id": "6CWP_uutcmLa"
      },
      "outputs": [
        {
          "name": "stdout",
          "output_type": "stream",
          "text": [
            "[11. 21. 31. 41. 51.]\n"
          ]
        }
      ],
      "source": [
        "# Cara 2 : Menambahkan dengan \"Special Array\"\n",
        "#np.ones()\n",
        "d = b + np.ones(5)\n",
        "print(d)"
      ]
    },
    {
      "cell_type": "markdown",
      "metadata": {
        "id": "2T15lXtucmLa"
      },
      "source": [
        "**NOMOR 2**\n",
        "\n",
        "Buatlah sebuah array seperti dibawah ini dan keluarkan element yang bernilai negatif.\n",
        "\n",
        "```\n",
        "b = [-3, 0, -2, 1, 2, 3, -4]\n",
        "```"
      ]
    },
    {
      "cell_type": "code",
      "execution_count": 61,
      "metadata": {
        "id": "apFuZ2g-cmLa"
      },
      "outputs": [
        {
          "name": "stdout",
          "output_type": "stream",
          "text": [
            "[-3  0 -2  1  2  3 -4]\n"
          ]
        }
      ],
      "source": [
        "#Buat array\n",
        "b = [-3,0,-2,1,2,3,-4]\n",
        "b = np.array(b)\n",
        "print(b)\n"
      ]
    },
    {
      "cell_type": "code",
      "execution_count": 62,
      "metadata": {
        "id": "NsTUVNIGcmLa"
      },
      "outputs": [
        {
          "data": {
            "text/plain": [
              "array([ True, False,  True, False, False, False,  True])"
            ]
          },
          "execution_count": 62,
          "metadata": {},
          "output_type": "execute_result"
        }
      ],
      "source": [
        "# Jika `b < 0` maka hanya akan dilakukan pengecekan apakah element di `b` kurang dari 0 atau tidak\n",
        "b<0\n"
      ]
    },
    {
      "cell_type": "code",
      "execution_count": 64,
      "metadata": {
        "id": "TLc4J5GxcmLb"
      },
      "outputs": [
        {
          "data": {
            "text/plain": [
              "array([-3, -2, -4])"
            ]
          },
          "execution_count": 64,
          "metadata": {},
          "output_type": "execute_result"
        }
      ],
      "source": [
        "# Jika `b[b < 0]` maka element di `b` kurang dari 0 akan ditampilkan\n",
        "b[b<0]"
      ]
    },
    {
      "cell_type": "markdown",
      "metadata": {
        "id": "iTV0p0tecmLb"
      },
      "source": [
        "**NOMOR 3**\n",
        "\n",
        "Buatlah sebuah array seperti dibawah ini. Keluarkan element yang bernilai positif kemudian urutkan dari nilai yang kecil ke besar\n",
        "\n",
        "```\n",
        "c = [10, -8, 4, 5, -41, 7, 5, -4]\n",
        "```"
      ]
    },
    {
      "cell_type": "code",
      "execution_count": 65,
      "metadata": {
        "id": "mEay01UEcmLb"
      },
      "outputs": [
        {
          "name": "stdout",
          "output_type": "stream",
          "text": [
            "[ 10  -8   4   5 -41   7   5  -4]\n"
          ]
        }
      ],
      "source": [
        "#Buat array\n",
        "c = [10,-8,4,5,-41,7,5,-4]\n",
        "c = np.array(c)\n",
        "print(c)\n"
      ]
    },
    {
      "cell_type": "code",
      "execution_count": 67,
      "metadata": {
        "id": "jXJekUMWcmLb"
      },
      "outputs": [
        {
          "name": "stdout",
          "output_type": "stream",
          "text": [
            "[-41  -8  -4   4   5   5   7  10]\n"
          ]
        }
      ],
      "source": [
        "# Sort elemen dari bilangan kecil ke besar\n",
        "#np.sort(nama_array)\n",
        "\n",
        "print(np.sort(c))"
      ]
    },
    {
      "cell_type": "code",
      "execution_count": 76,
      "metadata": {
        "id": "z_cqU76fcmLb"
      },
      "outputs": [
        {
          "name": "stdout",
          "output_type": "stream",
          "text": [
            "[ 10   7   5   5   4  -4  -8 -41]\n"
          ]
        }
      ],
      "source": [
        "# Sort elemen dari bilangan besar ke kecil\n",
        "#sort dan Slicing dengan step = -1\n",
        "\n",
        "print(np.sort(c)[::-1])"
      ]
    },
    {
      "cell_type": "markdown",
      "metadata": {
        "id": "cUapjHxZcmLc"
      },
      "source": [
        "**NOMOR 4**\n",
        "\n",
        "Buatlah array seperti dibawah ini kemudian tumpukkan secara horizontal dan vertikal satu sama lain.\n",
        "\n",
        "```\n",
        "d = [1, 2, 3, 4, 5]\n",
        "e = [6, 7, 8, 9, 10]\n",
        "```"
      ]
    },
    {
      "cell_type": "code",
      "execution_count": 78,
      "metadata": {
        "id": "zc2zgzt8cmLc"
      },
      "outputs": [
        {
          "name": "stdout",
          "output_type": "stream",
          "text": [
            "[1 2 3 4 5]\n",
            "[ 6  7  8  9 10]\n"
          ]
        }
      ],
      "source": [
        "#Buat array\n",
        "d = [1,2,3,4,5]\n",
        "e = [6,7,8,9,10]\n",
        "\n",
        "d = np.array(d)\n",
        "e = np.array(e)\n",
        "\n",
        "print(d)\n",
        "print(e)"
      ]
    },
    {
      "cell_type": "code",
      "execution_count": 83,
      "metadata": {
        "id": "YWdagAgScmLc"
      },
      "outputs": [
        {
          "name": "stdout",
          "output_type": "stream",
          "text": [
            "stacking Horiontal [ 1  2  3  4  5  6  7  8  9 10]\n",
            "Stacking Vertical \n",
            " [[ 1  2  3  4  5]\n",
            " [ 6  7  8  9 10]]\n"
          ]
        }
      ],
      "source": [
        "#Stacking Horizontal -> np.hstack((array1,array2))\n",
        "#Stacking Vertikal -> np.vstack((array1,array2))\n",
        "\n",
        "print(\"stacking Horiontal\", np.hstack((d,e)))\n",
        "print(\"Stacking Vertical\", \"\\n\", np.vstack((d,e)))"
      ]
    },
    {
      "cell_type": "markdown",
      "metadata": {
        "id": "nNGGJxfWcmLc"
      },
      "source": [
        "**NOMOR 5**\n",
        "\n",
        "Buatlah dua buah array seperti dibawah ini yang berasal dari 1 deklarasi variabel yang sama. Kemudian, kalikan array pertama dengan `2` dan kalikan array kedua dengan `3`.\n",
        "\n",
        "```\n",
        "f = [10, 20, 30, 40, 50]\n",
        "```\n",
        "\n",
        "Ekspektasi output : \n",
        "```\n",
        "hasil perkalian dengan 2 -> [20, 40, 60, 80, 100] \n",
        "hasil perkalian dengan 3 -> [30, 60, 90, 120, 150]\n",
        "```"
      ]
    },
    {
      "cell_type": "code",
      "execution_count": 84,
      "metadata": {
        "id": "JucB5Ec9cmLc"
      },
      "outputs": [
        {
          "name": "stdout",
          "output_type": "stream",
          "text": [
            "[10 20 30 40 50]\n"
          ]
        }
      ],
      "source": [
        "#Buat array f\n",
        "f = [10, 20, 30, 40, 50]\n",
        "\n",
        "f = np.array(f)\n",
        "print(f)"
      ]
    },
    {
      "cell_type": "code",
      "execution_count": 86,
      "metadata": {
        "id": "C7Zd9-T8cmLd"
      },
      "outputs": [
        {
          "name": "stdout",
          "output_type": "stream",
          "text": [
            "[10 20 30 40 50]\n"
          ]
        }
      ],
      "source": [
        "#Copy array f ke variabel baru\n",
        "\n",
        "f_copy = f.copy()\n",
        "print(f_copy)"
      ]
    },
    {
      "cell_type": "code",
      "execution_count": 87,
      "metadata": {
        "id": "hcdylbuncmLd"
      },
      "outputs": [
        {
          "name": "stdout",
          "output_type": "stream",
          "text": [
            "[ 20  40  60  80 100]\n",
            "[ 30  60  90 120 150]\n"
          ]
        }
      ],
      "source": [
        "#Kalikan masing2 variabel\n",
        "print(f_copy*2)\n",
        "print(f_copy*3)"
      ]
    },
    {
      "cell_type": "markdown",
      "metadata": {
        "id": "S1uAzp77cmLd"
      },
      "source": [
        "**NOMOR 6**\n",
        "\n",
        "Buatlah sebuah array seperti dibawah ini dan hitung total jumlahnya.\n",
        "\n",
        "```\n",
        "h = [1, 2, 3, 4, 5]\n",
        "j = [ [1, 2, 3],\n",
        "      [4, 5, 6]]\n",
        "```\n",
        "\n",
        "Ekspektasi output :\n",
        "\n",
        "```\n",
        "total nilai h = 15\n",
        "total nilai j berdasarkan penjumlahan baris = [6, 15]\n",
        "total nilai j berdasarkan penjumlahan kolom = [5, 7, 9]\n",
        "```"
      ]
    },
    {
      "cell_type": "code",
      "execution_count": 89,
      "metadata": {
        "id": "z08nMB1vcmLd"
      },
      "outputs": [
        {
          "name": "stdout",
          "output_type": "stream",
          "text": [
            "[1 2 3 4 5]\n",
            "[[1 2 3]\n",
            " [4 5 6]]\n"
          ]
        }
      ],
      "source": [
        "#Buat array\n",
        "h = [1, 2, 3, 4, 5]\n",
        "j = [[1, 2, 3],[4, 5, 6]]\n",
        "\n",
        "h = np.array(h)\n",
        "j = np.array(j)\n",
        "\n",
        "print(h)\n",
        "print(j)"
      ]
    },
    {
      "cell_type": "code",
      "execution_count": 91,
      "metadata": {
        "id": "n65p6pDXcmLd"
      },
      "outputs": [
        {
          "name": "stdout",
          "output_type": "stream",
          "text": [
            "Total nilai h adalah =  15\n",
            "Total nilai j adalah =  21\n"
          ]
        }
      ],
      "source": [
        "#jumlahkan array h\n",
        "#.sum()\n",
        "\n",
        "print(\"Total nilai h adalah = \",h.sum())\n",
        "print(\"Total nilai j adalah = \",j.sum())"
      ]
    },
    {
      "cell_type": "code",
      "execution_count": 94,
      "metadata": {
        "id": "ASk5g1VwcmLd"
      },
      "outputs": [
        {
          "name": "stdout",
          "output_type": "stream",
          "text": [
            "Total nilai j adalah =  [ 6 15]\n"
          ]
        }
      ],
      "source": [
        "#Penjumlahan berdasarkan baris\n",
        "#baris -> axis = 1\n",
        "# array h tidak bisa dijumlah axis karena array 1 dimensi\n",
        "\n",
        "print(\"Total nilai j adalah = \",j.sum(axis=1))"
      ]
    },
    {
      "cell_type": "code",
      "execution_count": 96,
      "metadata": {
        "id": "Jrm1Jr5icmLd"
      },
      "outputs": [
        {
          "name": "stdout",
          "output_type": "stream",
          "text": [
            "Total nilai h adalah =  15\n",
            "Total nilai j adalah =  [5 7 9]\n"
          ]
        }
      ],
      "source": [
        "#Penjumlahan berdasarkan kolom\n",
        "# kolom -> axis = 0\n",
        "\n",
        "print(\"Total nilai j adalah = \",j.sum(axis=0))"
      ]
    },
    {
      "cell_type": "markdown",
      "metadata": {
        "id": "KTsEE9GvcmLd"
      },
      "source": [
        "**NOMOR 7**\n",
        "\n",
        "Buatlah sebuah array seperti dibawah ini dan cari nilai `min`, `max`, dan `sum` per baris dan per kolom.\n",
        "\n",
        "```\n",
        "k = [ [1, 2, 3],\n",
        "      [4, 5, 6]]\n",
        "```"
      ]
    },
    {
      "cell_type": "code",
      "execution_count": 100,
      "metadata": {
        "id": "RmHUIiYrcmLd"
      },
      "outputs": [
        {
          "name": "stdout",
          "output_type": "stream",
          "text": [
            "[[1 2 3]\n",
            " [4 5 6]]\n"
          ]
        }
      ],
      "source": [
        "#Buat array\n",
        "k = [[1,2,3],[4,5,6]]\n",
        "k = np.array(k)\n",
        "print(k)"
      ]
    },
    {
      "cell_type": "code",
      "execution_count": 101,
      "metadata": {
        "id": "OTbCFCMTcmLe"
      },
      "outputs": [
        {
          "name": "stdout",
          "output_type": "stream",
          "text": [
            "[1 4]\n",
            "[3 6]\n",
            "[ 6 15]\n"
          ]
        }
      ],
      "source": [
        "#Mencari nilai minimum -> .min()\n",
        "#Mencari nilai maximum - > .max()\n",
        "#Mencari nilai total -> .sum()\n",
        "\n",
        "k_min = k.min(axis=1)\n",
        "k_max = k.max(axis=1)\n",
        "k_sum = k.sum(axis=1)\n",
        "\n",
        "print(k_min)\n",
        "print(k_max)\n",
        "print(k_sum)"
      ]
    },
    {
      "cell_type": "code",
      "execution_count": 102,
      "metadata": {},
      "outputs": [
        {
          "name": "stdout",
          "output_type": "stream",
          "text": [
            "[1 2 3]\n",
            "[4 5 6]\n",
            "[5 7 9]\n"
          ]
        }
      ],
      "source": [
        "k_min = k.min(axis=0)\n",
        "k_max = k.max(axis=0)\n",
        "k_sum = k.sum(axis=0)\n",
        "\n",
        "print(k_min)\n",
        "print(k_max)\n",
        "print(k_sum)"
      ]
    },
    {
      "cell_type": "markdown",
      "metadata": {
        "id": "hzXakCZ-cmLe"
      },
      "source": [
        "**NOMOR 8**\n",
        "\n",
        "Buatlah sebuah array seperti dibawah ini dan cari baris kedua dan kolom kedua.\n",
        "\n",
        "```\n",
        "n = [ [1, 2, 3], \n",
        "      [4, 5, 6],\n",
        "      [7, 8, 9]]\n",
        "```"
      ]
    },
    {
      "cell_type": "code",
      "execution_count": 105,
      "metadata": {
        "id": "8zVwJHARcmLe"
      },
      "outputs": [
        {
          "name": "stdout",
          "output_type": "stream",
          "text": [
            "[[1 2 3]\n",
            " [4 5 6]\n",
            " [7 8 9]]\n"
          ]
        }
      ],
      "source": [
        "#Buat array\n",
        "\n",
        "n = [[1, 2, 3],[4, 5, 6],[7, 8, 9]]\n",
        "n = np.array(n)\n",
        "print(n)"
      ]
    },
    {
      "cell_type": "code",
      "execution_count": 107,
      "metadata": {
        "id": "gX7ndiqJcmLe"
      },
      "outputs": [
        {
          "name": "stdout",
          "output_type": "stream",
          "text": [
            "1\n",
            "5\n",
            "9\n"
          ]
        }
      ],
      "source": [
        "#Get baris&Kolom\n",
        "# nama_array[baris,kolom]\n",
        "\n",
        "print(n[0,0])\n",
        "print(n[1,1])\n",
        "print(n[2,2])"
      ]
    },
    {
      "cell_type": "code",
      "execution_count": 110,
      "metadata": {
        "id": "cQPbgLuOcmLe"
      },
      "outputs": [
        {
          "name": "stdout",
          "output_type": "stream",
          "text": [
            "[4 5 6]\n",
            "[4 5 6]\n"
          ]
        }
      ],
      "source": [
        "# Get baris kedua\n",
        "# Bisa menggunakan n[1] atau n[1, :]\n",
        "\n",
        "print(n[1])\n",
        "print(n[1,::])\n"
      ]
    },
    {
      "cell_type": "code",
      "execution_count": 112,
      "metadata": {
        "id": "WkO5IfGtcmLe"
      },
      "outputs": [
        {
          "name": "stdout",
          "output_type": "stream",
          "text": [
            "[2 5 8]\n"
          ]
        }
      ],
      "source": [
        "# Get kolom kedua (menampilkan secara array 1D)\n",
        "#n[:, 1]\n",
        "\n",
        "print(n[::,1])"
      ]
    },
    {
      "cell_type": "code",
      "execution_count": 115,
      "metadata": {
        "id": "5PNo251hcmLf"
      },
      "outputs": [
        {
          "name": "stdout",
          "output_type": "stream",
          "text": [
            "[[2]\n",
            " [5]\n",
            " [8]]\n"
          ]
        }
      ],
      "source": [
        "# Get kolom kedua (menampilkan secara array 2D)\n",
        "# nama_array[:, [index_kolom]]\n",
        "\n",
        "print(n[::,[1]])"
      ]
    },
    {
      "cell_type": "code",
      "execution_count": 120,
      "metadata": {
        "id": "m-qY0hTgcmLf"
      },
      "outputs": [
        {
          "name": "stdout",
          "output_type": "stream",
          "text": [
            "[1 5 9]\n",
            "[[1 0 0]\n",
            " [0 5 0]\n",
            " [0 0 9]]\n"
          ]
        }
      ],
      "source": [
        "# Get elemen diagonal (dari kiri ke kanan)\n",
        "# np.diag()\n",
        "# buka dokumentasi\n",
        "\n",
        "print(np.diag(n))\n",
        "print(np.diag(np.diag(n)))"
      ]
    },
    {
      "cell_type": "code",
      "execution_count": 123,
      "metadata": {
        "id": "BSA_rROWcmLf"
      },
      "outputs": [
        {
          "name": "stdout",
          "output_type": "stream",
          "text": [
            "[3 5 7]\n",
            "[[3 0 0]\n",
            " [0 5 0]\n",
            " [0 0 7]]\n"
          ]
        }
      ],
      "source": [
        "# Get elemen diagonal (dari kanan ke kiri)\n",
        "# np.diag(np.fliplr(n))\n",
        "\n",
        "print(np.diag(np.fliplr(n)))\n",
        "print(np.diag(np.diag(np.fliplr(n))))"
      ]
    },
    {
      "cell_type": "markdown",
      "metadata": {
        "id": "7NsZ4kOycmLf"
      },
      "source": [
        "**NOMOR 9**\n",
        "\n",
        "Buatlah sebuah array seperti dibawah ini dan cari nilai `min`, `max`, dan `sum` untuk baris kedua dan kolom kedua.\n",
        "\n",
        "```\n",
        "m = [ [1, 2, 3], \n",
        "      [4, 5, 6],\n",
        "      [7, 8, 9]]\n",
        "```"
      ]
    },
    {
      "cell_type": "code",
      "execution_count": 124,
      "metadata": {
        "id": "xIoEWukJcmLf"
      },
      "outputs": [
        {
          "name": "stdout",
          "output_type": "stream",
          "text": [
            "[[1 2 3]\n",
            " [4 5 6]\n",
            " [7 8 9]]\n"
          ]
        }
      ],
      "source": [
        "#Buat array\n",
        "m = [[1,2,3],[4,5,6],[7,8,9]]\n",
        "m = np.array(m)\n",
        "print(m)"
      ]
    },
    {
      "cell_type": "code",
      "execution_count": 128,
      "metadata": {
        "id": "MSc4nrGMcmLf"
      },
      "outputs": [
        {
          "name": "stdout",
          "output_type": "stream",
          "text": [
            "[4 5 6]\n",
            "[2 5 8]\n"
          ]
        }
      ],
      "source": [
        "#buat variabel yang berisikan baris ke 2\n",
        "\n",
        "baris_2 = m[1]\n",
        "print(baris_2)\n",
        "\n",
        "#buat variabel yang berisikan kolom ke 2\n",
        "\n",
        "kolom_2 = m[::,1]\n",
        "print(kolom_2)\n"
      ]
    },
    {
      "cell_type": "code",
      "execution_count": 136,
      "metadata": {
        "id": "xGOEGPoKcmLf"
      },
      "outputs": [
        {
          "name": "stdout",
          "output_type": "stream",
          "text": [
            "6\n",
            "4\n",
            "15\n",
            "8\n",
            "2\n",
            "15\n"
          ]
        }
      ],
      "source": [
        "#Cari masing2 nilai sum, min, dan max\n",
        "\n",
        "print(np.max(baris_2))\n",
        "print(np.min(baris_2))\n",
        "print(np.sum(baris_2))\n",
        "\n",
        "print(np.max(kolom_2))\n",
        "print(np.min(kolom_2))\n",
        "print(np.sum(kolom_2))"
      ]
    },
    {
      "cell_type": "markdown",
      "metadata": {
        "id": "54EE0Na_cmLf"
      },
      "source": [
        "**NOMOR 10**\n",
        "\n",
        "<img src='https://i.ibb.co/JvBzgWn/greyscale.png'>\n",
        "\n",
        "Download image [disini](https://i.ibb.co/JvBzgWn/greyscale.png)\n",
        "\n",
        "* Load gambar tersebut dengan menggunakan library matplotlib.\n",
        "* Jawab pertanyaan berikut ini : \n",
        "  - Berapa ukuran gambar tersebut.\n",
        "  - Berapa total piksel/element pada gambar tersebut.\n",
        "  - Cerahkan gambar tersebut dengan menambahkan suatu angka."
      ]
    },
    {
      "cell_type": "code",
      "execution_count": 137,
      "metadata": {
        "colab": {
          "base_uri": "https://localhost:8080/"
        },
        "id": "y9PgcS4TcmLf",
        "outputId": "a5911cb4-c8a4-44ef-cc7d-027cd971ccc8"
      },
      "outputs": [
        {
          "name": "stdout",
          "output_type": "stream",
          "text": [
            "Requirement already satisfied: matplotlib in c:\\users\\asus\\anaconda3\\lib\\site-packages (3.5.1)\n",
            "Requirement already satisfied: cycler>=0.10 in c:\\users\\asus\\anaconda3\\lib\\site-packages (from matplotlib) (0.11.0)\n",
            "Requirement already satisfied: pyparsing>=2.2.1 in c:\\users\\asus\\anaconda3\\lib\\site-packages (from matplotlib) (3.0.4)\n",
            "Requirement already satisfied: fonttools>=4.22.0 in c:\\users\\asus\\anaconda3\\lib\\site-packages (from matplotlib) (4.25.0)\n",
            "Requirement already satisfied: kiwisolver>=1.0.1 in c:\\users\\asus\\anaconda3\\lib\\site-packages (from matplotlib) (1.3.2)\n",
            "Requirement already satisfied: pillow>=6.2.0 in c:\\users\\asus\\anaconda3\\lib\\site-packages (from matplotlib) (9.0.1)\n",
            "Requirement already satisfied: python-dateutil>=2.7 in c:\\users\\asus\\anaconda3\\lib\\site-packages (from matplotlib) (2.8.2)\n",
            "Requirement already satisfied: packaging>=20.0 in c:\\users\\asus\\anaconda3\\lib\\site-packages (from matplotlib) (21.3)\n",
            "Requirement already satisfied: numpy>=1.17 in c:\\users\\asus\\anaconda3\\lib\\site-packages (from matplotlib) (1.21.5)\n",
            "Requirement already satisfied: six>=1.5 in c:\\users\\asus\\anaconda3\\lib\\site-packages (from python-dateutil>=2.7->matplotlib) (1.16.0)\n"
          ]
        }
      ],
      "source": [
        "#Install matplotlib in jupyter\n",
        "import sys  \n",
        "!{sys.executable} -m pip install --user matplotlib"
      ]
    },
    {
      "cell_type": "code",
      "execution_count": 138,
      "metadata": {
        "id": "Td9P2pkycmLg"
      },
      "outputs": [],
      "source": [
        "#Import matplotlib\n",
        "import matplotlib.pyplot as plt\n"
      ]
    },
    {
      "cell_type": "code",
      "execution_count": 139,
      "metadata": {
        "id": "Fa1Uq-zacmLg"
      },
      "outputs": [],
      "source": [
        "#Baca gambar menggunakan plt.imread('location_gambar') lalu masukkan ke variabel\n",
        "img = plt.imread(\"greyscale.png\")"
      ]
    },
    {
      "cell_type": "code",
      "execution_count": 140,
      "metadata": {
        "id": "_Srt-HKKcmLg"
      },
      "outputs": [
        {
          "data": {
            "text/plain": [
              "(700, 1120)"
            ]
          },
          "execution_count": 140,
          "metadata": {},
          "output_type": "execute_result"
        }
      ],
      "source": [
        "#Cek ukuran gambar\n",
        "#.shape\n",
        "\n",
        "img.shape"
      ]
    },
    {
      "cell_type": "code",
      "execution_count": 141,
      "metadata": {},
      "outputs": [
        {
          "data": {
            "text/plain": [
              "2"
            ]
          },
          "execution_count": 141,
          "metadata": {},
          "output_type": "execute_result"
        }
      ],
      "source": [
        "img.ndim"
      ]
    },
    {
      "cell_type": "code",
      "execution_count": 142,
      "metadata": {
        "id": "gQ0M88HZcmLg"
      },
      "outputs": [
        {
          "data": {
            "text/plain": [
              "784000"
            ]
          },
          "execution_count": 142,
          "metadata": {},
          "output_type": "execute_result"
        }
      ],
      "source": [
        "# Total Piksel\n",
        "#.size\n",
        "\n",
        "img.size"
      ]
    },
    {
      "cell_type": "code",
      "execution_count": 143,
      "metadata": {
        "id": "dhPYPXhzcmLg"
      },
      "outputs": [
        {
          "data": {
            "text/plain": [
              "array([[0.37254903, 0.3529412 , 0.34509805, ..., 0.        , 0.        ,\n",
              "        0.        ],\n",
              "       [0.38431373, 0.36078432, 0.34509805, ..., 0.        , 0.        ,\n",
              "        0.        ],\n",
              "       [0.3882353 , 0.36078432, 0.34117648, ..., 0.        , 0.        ,\n",
              "        0.        ],\n",
              "       ...,\n",
              "       [0.08235294, 0.07450981, 0.09411765, ..., 0.0627451 , 0.0627451 ,\n",
              "        0.06666667],\n",
              "       [0.07843138, 0.07450981, 0.10588235, ..., 0.06666667, 0.06666667,\n",
              "        0.06666667],\n",
              "       [0.05882353, 0.07058824, 0.12156863, ..., 0.07843138, 0.07843138,\n",
              "        0.07843138]], dtype=float32)"
            ]
          },
          "execution_count": 143,
          "metadata": {},
          "output_type": "execute_result"
        }
      ],
      "source": [
        "#Nilai piksel\n",
        "#img, udah di scalling\n",
        "\n",
        "img"
      ]
    },
    {
      "cell_type": "code",
      "execution_count": 144,
      "metadata": {
        "id": "FIQlTahocmLg"
      },
      "outputs": [
        {
          "data": {
            "text/plain": [
              "numpy.ndarray"
            ]
          },
          "execution_count": 144,
          "metadata": {},
          "output_type": "execute_result"
        }
      ],
      "source": [
        "#Memastikan tipe data menjadi array\n",
        "#np.asarray()\n",
        "\n",
        "img = np.asarray(img)\n",
        "type(img)"
      ]
    },
    {
      "cell_type": "code",
      "execution_count": 145,
      "metadata": {
        "id": "PkREJKzWcmLg"
      },
      "outputs": [
        {
          "name": "stdout",
          "output_type": "stream",
          "text": [
            "0.29411764705882354\n"
          ]
        }
      ],
      "source": [
        "#Menentukan nilai yg akan ditambahkan ke piksel\n",
        "#Ubah ke skala 0-1, divide by 255 (highest pixel value)\n",
        "\n",
        "tambah_nilai = 75\n",
        "\n",
        "tambah_nilai = tambah_nilai / 255\n",
        "print(tambah_nilai)"
      ]
    },
    {
      "cell_type": "code",
      "execution_count": 147,
      "metadata": {
        "id": "ngx6kZPicmLh"
      },
      "outputs": [],
      "source": [
        "#Copy datanya dulu (penting setiap ingin memodifikasi data) ke variabel baru\n",
        "\n",
        "new_img = img.copy()\n",
        "\n",
        "#tambahkan nilai piksel ke gambar\n",
        "\n",
        "new_img = new_img + tambah_nilai"
      ]
    },
    {
      "cell_type": "code",
      "execution_count": 148,
      "metadata": {
        "id": "sPPDob8gcmLh"
      },
      "outputs": [
        {
          "data": {
            "text/plain": [
              "<matplotlib.image.AxesImage at 0x2cd30838460>"
            ]
          },
          "execution_count": 148,
          "metadata": {},
          "output_type": "execute_result"
        },
        {
          "data": {
            "image/png": "[encoded data removed]",
            "text/plain": [
              "<Figure size 432x288 with 1 Axes>"
            ]
          },
          "metadata": {
            "needs_background": "light"
          },
          "output_type": "display_data"
        }
      ],
      "source": [
        "# Menampilkan gambar original\n",
        "# `img` : array gambar\n",
        "# `cmap` : color map #figure\n",
        "# `vmin` : value minimum #figure\n",
        "# `vmax` : value maximum #figure\n",
        "#plt.imshow(nama_variabel, cmap='gray', vmin=0, vmax=1)\n",
        "\n",
        "plt.imshow(img, cmap='gray', vmin=0, vmax=1)"
      ]
    },
    {
      "cell_type": "code",
      "execution_count": 149,
      "metadata": {
        "id": "c7G3g2XtcmLh"
      },
      "outputs": [
        {
          "data": {
            "text/plain": [
              "<matplotlib.image.AxesImage at 0x2cd30862f40>"
            ]
          },
          "execution_count": 149,
          "metadata": {},
          "output_type": "execute_result"
        },
        {
          "data": {
            "image/png": "[encoded data removed]",
            "text/plain": [
              "<Figure size 432x288 with 1 Axes>"
            ]
          },
          "metadata": {
            "needs_background": "light"
          },
          "output_type": "display_data"
        }
      ],
      "source": [
        "# Menampilkan gambar yg sudah ditambah suatu value\n",
        "\n",
        "plt.imshow(new_img, cmap='gray', vmin=0, vmax=1)"
      ]
    },
    {
      "cell_type": "code",
      "execution_count": 150,
      "metadata": {
        "id": "qYLCtKRY36Jr"
      },
      "outputs": [],
      "source": [
        "#Save fig\n",
        "# plt.imsave('new_img.png')\n",
        "\n",
        "plt.imsave(\"new_image.png\", new_img, cmap='gray', vmin=0, vmax=1)"
      ]
    },
    {
      "cell_type": "code",
      "execution_count": null,
      "metadata": {},
      "outputs": [],
      "source": []
    }
  ],
  "metadata": {
    "colab": {
      "collapsed_sections": [],
      "name": "Latihan_numpy_array.ipynb",
      "provenance": []
    },
    "kernelspec": {
      "display_name": "Python 3.9.12 ('base')",
      "language": "python",
      "name": "python3"
    },
    "language_info": {
      "codemirror_mode": {
        "name": "ipython",
        "version": 3
      },
      "file_extension": ".py",
      "mimetype": "text/x-python",
      "name": "python",
      "nbconvert_exporter": "python",
      "pygments_lexer": "ipython3",
      "version": "3.9.12"
    },
    "orig_nbformat": 4,
    "vscode": {
      "interpreter": {
        "hash": "a90aeebcf29d64a654773811cc170cb25061cb2498f10ac689db374c7bf325de"
      }
    }
  },
  "nbformat": 4,
  "nbformat_minor": 0
}

{
 "cells": [
  {
   "cell_type": "markdown",
   "metadata": {},
   "source": [
    "# Function"
   ]
  },
  {
   "cell_type": "code",
   "execution_count": 28,
   "metadata": {},
   "outputs": [
    {
     "name": "stdout",
     "output_type": "stream",
     "text": [
      "Nama saya adalah Fakhri\n",
      "Nama saya adalah Fakhri\n",
      "None\n"
     ]
    }
   ],
   "source": [
    "# def nama_function (variabel):\n",
    "# dengan ujung print atau return\n",
    "# return menghasilkan value, sedangkan print hanya mencetak saja tanpa value\n",
    "# operasi function hanya berlaku local\n",
    "# jika ingin di global kan menggunakan global atau bikin variable baru\n",
    "\n",
    "def cetak (nama):\n",
    "    print(f\"Nama saya adalah {nama}\")\n",
    "\n",
    "cetak(\"Fakhri\")\n",
    "print(cetak(\"Fakhri\"))\n",
    "\n",
    "# muncul none karena ada perintah print sebanyak 2x, sehingga perintah kedua menjadi none"
   ]
  },
  {
   "cell_type": "code",
   "execution_count": 29,
   "metadata": {},
   "outputs": [
    {
     "name": "stdout",
     "output_type": "stream",
     "text": [
      "wasta abdi Fakhri, demeleun abdi Engineer\n"
     ]
    }
   ],
   "source": [
    "# penulisan yang benar seperti ini\n",
    "\n",
    "def tulis (wasta, kerja):\n",
    "    return(f\"wasta abdi {wasta}, demeleun abdi {kerja}\")\n",
    "\n",
    "print(tulis(\"Fakhri\",\"Engineer\"))"
   ]
  },
  {
   "cell_type": "code",
   "execution_count": 30,
   "metadata": {},
   "outputs": [
    {
     "name": "stdout",
     "output_type": "stream",
     "text": [
      "2\n",
      "Angka Genap\n"
     ]
    }
   ],
   "source": [
    "a = 2\n",
    "def jenis_angka(a): \n",
    "    if a % 2 == 0:\n",
    "        print(a)\n",
    "        print(\"Angka Genap\")\n",
    "    else:\n",
    "        print(a)\n",
    "        print(\"Angka Ganjil\")\n",
    "    return \n",
    "\n",
    "jenis_angka(a)\n"
   ]
  },
  {
   "cell_type": "code",
   "execution_count": 31,
   "metadata": {},
   "outputs": [
    {
     "name": "stdout",
     "output_type": "stream",
     "text": [
      "Hacktiv8\n",
      "Kata benar\n"
     ]
    }
   ],
   "source": [
    "b = \"Hacktiv8\"\n",
    "def detect_kata (b):\n",
    "    if b == \"Hacktiv8\":\n",
    "        print(b)\n",
    "        print(\"Kata benar\")\n",
    "    else:\n",
    "        print(b)\n",
    "        print(\"Kata Salah\")\n",
    "    return\n",
    "\n",
    "detect_kata(b)"
   ]
  },
  {
   "cell_type": "code",
   "execution_count": 32,
   "metadata": {},
   "outputs": [
    {
     "name": "stdout",
     "output_type": "stream",
     "text": [
      "(13, 7, 30, 3.3333333333333335, 100, 9, 1)\n"
     ]
    },
    {
     "data": {
      "text/plain": [
       "(13, 7, 30, 3.3333333333333335, 100, 9, 1)"
      ]
     },
     "execution_count": 32,
     "metadata": {},
     "output_type": "execute_result"
    }
   ],
   "source": [
    "def operasi_matematika (x,y):\n",
    "    hasil_tambah = x + y\n",
    "    hasil_kurang = x - y\n",
    "    hasil_kali = x * y\n",
    "    hasil_bagi = x / y\n",
    "    hasil_pangkat_x = x ** 2\n",
    "    hasil_pangkat_y = y ** 2\n",
    "    hasil_sisa_bagi = x % y\n",
    "    return hasil_tambah,hasil_kurang,hasil_kali,hasil_bagi,hasil_pangkat_x,hasil_pangkat_y,hasil_sisa_bagi\n",
    "\n",
    "print(operasi_matematika(10,3))\n",
    "operasi_matematika(10,3)"
   ]
  },
  {
   "cell_type": "code",
   "execution_count": 33,
   "metadata": {},
   "outputs": [
    {
     "name": "stdout",
     "output_type": "stream",
     "text": [
      "13 7 30 3.3333333333333335 100 9 1\n"
     ]
    }
   ],
   "source": [
    "c,d,e,f,g,h,i = operasi_matematika(10,3)\n",
    "print(c,d,e,f,g,h,i)"
   ]
  },
  {
   "cell_type": "code",
   "execution_count": 36,
   "metadata": {},
   "outputs": [
    {
     "data": {
      "text/plain": [
       "55"
      ]
     },
     "execution_count": 36,
     "metadata": {},
     "output_type": "execute_result"
    }
   ],
   "source": [
    "# *args merupakan kumpulan data yang bisa diisi berapapun jumlah data nya, berupa data tuple\n",
    "\n",
    "def tambah (*args):\n",
    "    return sum(args)\n",
    "\n",
    "tambah(1,2,3,4,5,6,7,8,9,10)"
   ]
  },
  {
   "cell_type": "code",
   "execution_count": 50,
   "metadata": {},
   "outputs": [],
   "source": [
    "# **kwargs merupakan kumlah data berupa dictionary yang bisa diisi apapun data tersebut\n",
    "\n",
    "def daftar (data, **kwargs):\n",
    "    print(data)\n",
    "    for key,value in kwargs.items():\n",
    "        print(f\"Pendaftaran {key}\")\n",
    "        print(f\"Menuju kota {value}\")\n",
    "    return\n"
   ]
  },
  {
   "cell_type": "code",
   "execution_count": 57,
   "metadata": {},
   "outputs": [
    {
     "name": "stdout",
     "output_type": "stream",
     "text": [
      "3\n",
      "Pendaftaran Muhammad\n",
      "Menuju kota Jakarta\n",
      "Pendaftaran Nafisa\n",
      "Menuju kota Bogor\n",
      "Pendaftaran Fakhri\n",
      "Menuju kota Bandung\n"
     ]
    }
   ],
   "source": [
    "daftar(3,Muhammad=\"Jakarta\",Nafisa=\"Bogor\",Fakhri=\"Bandung\")"
   ]
  },
  {
   "cell_type": "code",
   "execution_count": 14,
   "metadata": {},
   "outputs": [
    {
     "data": {
      "text/plain": [
       "23.437499999999996"
      ]
     },
     "execution_count": 14,
     "metadata": {},
     "output_type": "execute_result"
    }
   ],
   "source": [
    "def bmi (berat, tinggi):\n",
    "    return(berat / tinggi**2)\n",
    "\n",
    "bmi(60,1.6)"
   ]
  },
  {
   "cell_type": "markdown",
   "metadata": {},
   "source": [
    "# Modules"
   ]
  },
  {
   "cell_type": "code",
   "execution_count": 15,
   "metadata": {},
   "outputs": [
    {
     "name": "stdout",
     "output_type": "stream",
     "text": [
      "5\n"
     ]
    }
   ],
   "source": [
    "def tambah (a,b):\n",
    "    hasil = a + b\n",
    "    return(hasil)\n",
    "\n",
    "c = tambah(2,3)\n",
    "print(c)"
   ]
  },
  {
   "cell_type": "code",
   "execution_count": null,
   "metadata": {},
   "outputs": [],
   "source": []
  }
 ],
 "metadata": {
  "kernelspec": {
   "display_name": "Python 3.9.12 ('base')",
   "language": "python",
   "name": "python3"
  },
  "language_info": {
   "codemirror_mode": {
    "name": "ipython",
    "version": 3
   },
   "file_extension": ".py",
   "mimetype": "text/x-python",
   "name": "python",
   "nbconvert_exporter": "python",
   "pygments_lexer": "ipython3",
   "version": "3.9.12"
  },
  "orig_nbformat": 4,
  "vscode": {
   "interpreter": {
    "hash": "a90aeebcf29d64a654773811cc170cb25061cb2498f10ac689db374c7bf325de"
   }
  }
 },
 "nbformat": 4,
 "nbformat_minor": 2
}

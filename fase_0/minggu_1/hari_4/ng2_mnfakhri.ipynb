{
 "cells": [
  {
   "cell_type": "markdown",
   "metadata": {},
   "source": [
    "# Non Graded Challenge 2\n",
    "- Muhammad Nafisa Fakhri\n",
    "- FTDS Batch 013"
   ]
  },
  {
   "cell_type": "markdown",
   "metadata": {},
   "source": [
    "- Buatlah sebuah function yang dapat menkonversi suhu dari kelvin ke celcius, atau sebaliknya\n",
    "- Buatlah sebuah function yang dapat menkonversi suhu dari fahrenheit ke celcius, atau sebaliknya\n",
    "- Buatlah sebuah function yang dapat menkonversi suhu dari kelvin ke fahrenheit, atau sebaliknya"
   ]
  },
  {
   "cell_type": "markdown",
   "metadata": {},
   "source": [
    "#### Input Data"
   ]
  },
  {
   "cell_type": "code",
   "execution_count": 1,
   "metadata": {},
   "outputs": [],
   "source": [
    "a = input(\"Masukan satuan suhu yang anda ingin konversikan (Celcius, Kelvin, atau Fahrenheit)\")\n",
    "suhu_awal = a.lower()\n",
    "b = input(\"Masukan nilai suhu yang anda ingin konversikan\")\n",
    "nilai_suhu_awal = eval(b)\n",
    "c = input(\"Masukan satuan suhu yang anda ingin jadikan hasil konversi (Celcius, Kelvin, atau Fahrenheit)\")\n",
    "suhu_akhir = c.lower()"
   ]
  },
  {
   "cell_type": "markdown",
   "metadata": {},
   "source": [
    "- Function Celcius ke Kelvin"
   ]
  },
  {
   "cell_type": "code",
   "execution_count": 2,
   "metadata": {},
   "outputs": [],
   "source": [
    "def konversi_celcius_kelvin(nilai_suhu_awal):\n",
    "    nilai_suhu_akhir = nilai_suhu_awal + 273.15\n",
    "    return nilai_suhu_akhir"
   ]
  },
  {
   "cell_type": "markdown",
   "metadata": {},
   "source": [
    "- Function Kelvin ke Celcius"
   ]
  },
  {
   "cell_type": "code",
   "execution_count": 3,
   "metadata": {},
   "outputs": [],
   "source": [
    "def konversi_kelvin_celcius(nilai_suhu_awal):\n",
    "    nilai_suhu_akhir = nilai_suhu_awal - 273.15\n",
    "    return nilai_suhu_akhir"
   ]
  },
  {
   "cell_type": "markdown",
   "metadata": {},
   "source": [
    "- Function Celcius ke Fahrenheit"
   ]
  },
  {
   "cell_type": "code",
   "execution_count": 4,
   "metadata": {},
   "outputs": [],
   "source": [
    "def konversi_celcius_fahrenheit(nilai_suhu_awal):\n",
    "    nilai_suhu_akhir = (nilai_suhu_awal * 1.8) + 32\n",
    "    return nilai_suhu_akhir"
   ]
  },
  {
   "cell_type": "markdown",
   "metadata": {},
   "source": [
    "- Function Fahrenheit ke Celcius"
   ]
  },
  {
   "cell_type": "code",
   "execution_count": 5,
   "metadata": {},
   "outputs": [],
   "source": [
    "def konversi_fahrenheit_celcius(nilai_suhu_awal):\n",
    "    nilai_suhu_akhir = (nilai_suhu_awal - 32) * 1.8\n",
    "    return nilai_suhu_akhir"
   ]
  },
  {
   "cell_type": "markdown",
   "metadata": {},
   "source": [
    "- Function Fahrenheit ke Kelvin"
   ]
  },
  {
   "cell_type": "code",
   "execution_count": 6,
   "metadata": {},
   "outputs": [],
   "source": [
    "def konversi_fahrenheit_kelvin(nilai_suhu_awal):\n",
    "    nilai_suhu_akhir = (nilai_suhu_awal + 459.67) / 1.8\n",
    "    return nilai_suhu_akhir"
   ]
  },
  {
   "cell_type": "markdown",
   "metadata": {},
   "source": [
    "- Function Kelvin ke Fahrenheit"
   ]
  },
  {
   "cell_type": "code",
   "execution_count": 7,
   "metadata": {},
   "outputs": [],
   "source": [
    "def konversi_kelvin_fahrenheit(nilai_suhu_awal):\n",
    "    nilai_suhu_akhir = (nilai_suhu_awal * 1.8) / 459.67\n",
    "    return nilai_suhu_akhir"
   ]
  },
  {
   "cell_type": "markdown",
   "metadata": {},
   "source": [
    "- Conditional"
   ]
  },
  {
   "cell_type": "code",
   "execution_count": 8,
   "metadata": {},
   "outputs": [
    {
     "name": "stdout",
     "output_type": "stream",
     "text": [
      "298.15\n"
     ]
    }
   ],
   "source": [
    "if suhu_awal == \"celcius\":\n",
    "    if suhu_akhir == \"kelvin\":\n",
    "        konversi_celcius_kelvin(nilai_suhu_awal)\n",
    "        print(konversi_celcius_kelvin(nilai_suhu_awal))\n",
    "    elif suhu_akhir == \"fahrenheit\":\n",
    "        konversi_celcius_fahrenheit(nilai_suhu_awal)\n",
    "        print(konversi_celcius_fahrenheit(nilai_suhu_awal))\n",
    "    else:\n",
    "        print(\"Suhu akhir yang anda masukan salah, coba ulangi dari awal\")\n",
    "elif suhu_awal == \"kelvin\":\n",
    "    if suhu_akhir == \"celcius\":\n",
    "        konversi_kelvin_celcius(nilai_suhu_awal)\n",
    "        print(konversi_kelvin_celcius(nilai_suhu_awal))\n",
    "    elif suhu_akhir == \"fahrenheit\":\n",
    "        konversi_kelvin_fahrenheit(nilai_suhu_awal)\n",
    "        print(konversi_kelvin_fahrenheit(nilai_suhu_awal))\n",
    "    else:\n",
    "        print(\"Suhu akhir yang anda masukan salah, coba ulangi dari awal\")\n",
    "elif suhu_awal == \"fahrenheit\":\n",
    "    if suhu_akhir == \"celcius\":\n",
    "        konversi_fahrenheit_celcius(nilai_suhu_awal)\n",
    "        print(konversi_fahrenheit_celcius(nilai_suhu_awal))\n",
    "    elif suhu_akhir == \"kelvin\":\n",
    "        konversi_fahrenheit_kelvin(nilai_suhu_awal)\n",
    "        print(konversi_fahrenheit_kelvin(nilai_suhu_awal))\n",
    "    else:\n",
    "        print(\"Suhu akhir yang anda masukan salah, coba ulangi dari awal\")\n",
    "else:\n",
    "    print(\"Suhu awal yang anda masukan salah, coba ulangi dari awal\")\n"
   ]
  },
  {
   "cell_type": "markdown",
   "metadata": {},
   "source": []
  }
 ],
 "metadata": {
  "kernelspec": {
   "display_name": "Python 3.9.12 ('base')",
   "language": "python",
   "name": "python3"
  },
  "language_info": {
   "codemirror_mode": {
    "name": "ipython",
    "version": 3
   },
   "file_extension": ".py",
   "mimetype": "text/x-python",
   "name": "python",
   "nbconvert_exporter": "python",
   "pygments_lexer": "ipython3",
   "version": "3.9.12"
  },
  "orig_nbformat": 4,
  "vscode": {
   "interpreter": {
    "hash": "a90aeebcf29d64a654773811cc170cb25061cb2498f10ac689db374c7bf325de"
   }
  }
 },
 "nbformat": 4,
 "nbformat_minor": 2
}

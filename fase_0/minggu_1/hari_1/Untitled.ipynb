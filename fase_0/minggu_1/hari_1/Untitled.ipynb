{
 "cells": [
  {
   "cell_type": "code",
   "execution_count": 1,
   "id": "0a97a157",
   "metadata": {},
   "outputs": [
    {
     "name": "stdout",
     "output_type": "stream",
     "text": [
      "Hallo Dunia\n"
     ]
    }
   ],
   "source": [
    "print(\"Hallo Dunia\")"
   ]
  },
  {
   "cell_type": "markdown",
   "id": "80c9eb5f",
   "metadata": {},
   "source": [
    "Nyobain aja deh"
   ]
  },
  {
   "cell_type": "markdown",
   "id": "c6ca6818",
   "metadata": {},
   "source": [
    "#judul"
   ]
  },
  {
   "cell_type": "markdown",
   "id": "f7ae6d81",
   "metadata": {},
   "source": [
    "# judul"
   ]
  },
  {
   "cell_type": "code",
   "execution_count": null,
   "id": "1d685591",
   "metadata": {},
   "outputs": [],
   "source": []
  }
 ],
 "metadata": {
  "kernelspec": {
   "display_name": "Python 3 (ipykernel)",
   "language": "python",
   "name": "python3"
  },
  "language_info": {
   "codemirror_mode": {
    "name": "ipython",
    "version": 3
   },
   "file_extension": ".py",
   "mimetype": "text/x-python",
   "name": "python",
   "nbconvert_exporter": "python",
   "pygments_lexer": "ipython3",
   "version": "3.9.12"
  }
 },
 "nbformat": 4,
 "nbformat_minor": 5
}

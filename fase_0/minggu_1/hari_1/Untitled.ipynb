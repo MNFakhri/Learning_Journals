{
 "cells": [
  {
   "cell_type": "code",
   "execution_count": 1,
   "id": "0a97a157",
   "metadata": {},
   "outputs": [
    {
     "name": "stdout",
     "output_type": "stream",
     "text": [
      "Hallo Dunia\n"
     ]
    }
   ],
   "source": [
    "print(\"Hallo Dunia\")"
   ]
  },
  {
   "cell_type": "markdown",
   "id": "80c9eb5f",
   "metadata": {},
   "source": [
    "Nyobain aja deh"
   ]
  },
  {
   "cell_type": "markdown",
   "id": "c6ca6818",
   "metadata": {},
   "source": [
    "#judul"
   ]
  },
  {
   "cell_type": "markdown",
   "id": "f7ae6d81",
   "metadata": {},
   "source": [
    "# judul"
   ]
  },
  {
   "cell_type": "code",
   "execution_count": 1,
   "id": "1d685591",
   "metadata": {},
   "outputs": [
    {
     "data": {
      "text/plain": [
       "6"
      ]
     },
     "execution_count": 1,
     "metadata": {},
     "output_type": "execute_result"
    }
   ],
   "source": [
    "a = [1,2,3]\n",
    "\n",
    "sum(a)"
   ]
  },
  {
   "cell_type": "code",
   "execution_count": 12,
   "id": "79e9ec90",
   "metadata": {},
   "outputs": [
    {
     "name": "stdout",
     "output_type": "stream",
     "text": [
      "11\n"
     ]
    }
   ],
   "source": [
    "x = lambda a : a + 10\n",
    "print(x(1)) "
   ]
  },
  {
   "cell_type": "code",
   "execution_count": 13,
   "id": "31f9b213",
   "metadata": {},
   "outputs": [
    {
     "name": "stdout",
     "output_type": "stream",
     "text": [
      "22\n",
      "33\n"
     ]
    }
   ],
   "source": [
    "def myfunc(n):\n",
    "  return lambda a : a * n\n",
    "\n",
    "mydoubler = myfunc(2)\n",
    "mytripler = myfunc(3)\n",
    "\n",
    "print(mydoubler(11))\n",
    "print(mytripler(11))"
   ]
  },
  {
   "cell_type": "code",
   "execution_count": 4,
   "id": "4bfe79d5",
   "metadata": {},
   "outputs": [
    {
     "name": "stdout",
     "output_type": "stream",
     "text": [
      "🤗\n",
      "😪\n",
      "😷\n",
      "😘\n",
      "😀\n"
     ]
    }
   ],
   "source": [
    "print(\"\\U0001F917\")\n",
    "print(\"\\U0001F62A\")\n",
    "print(\"\\U0001F637\")\n",
    "print(\"\\U0001F618\")\n",
    "print(\"\\U0001F600\")"
   ]
  }
 ],
 "metadata": {
  "kernelspec": {
   "display_name": "Python 3.9.12 ('base')",
   "language": "python",
   "name": "python3"
  },
  "language_info": {
   "codemirror_mode": {
    "name": "ipython",
    "version": 3
   },
   "file_extension": ".py",
   "mimetype": "text/x-python",
   "name": "python",
   "nbconvert_exporter": "python",
   "pygments_lexer": "ipython3",
   "version": "3.9.12"
  },
  "vscode": {
   "interpreter": {
    "hash": "a90aeebcf29d64a654773811cc170cb25061cb2498f10ac689db374c7bf325de"
   }
  }
 },
 "nbformat": 4,
 "nbformat_minor": 5
}

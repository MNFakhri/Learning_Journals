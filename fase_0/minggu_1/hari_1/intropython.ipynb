{
 "cells": [
  {
   "cell_type": "markdown",
   "metadata": {},
   "source": [
    "# PENGENALAN"
   ]
  },
  {
   "cell_type": "code",
   "execution_count": 1,
   "metadata": {},
   "outputs": [
    {
     "name": "stdout",
     "output_type": "stream",
     "text": [
      "<class 'int'>\n",
      "<class 'float'>\n",
      "<class 'complex'>\n"
     ]
    }
   ],
   "source": [
    "print(type(10))\n",
    "print(type(9.9))\n",
    "print(type(2+3j))"
   ]
  },
  {
   "cell_type": "code",
   "execution_count": 2,
   "metadata": {},
   "outputs": [
    {
     "name": "stdout",
     "output_type": "stream",
     "text": [
      "<class 'str'>\n",
      "<class 'str'>\n"
     ]
    }
   ],
   "source": [
    "print(type(\"Fakhri\"))\n",
    "print(type('Fakhri'))"
   ]
  },
  {
   "cell_type": "code",
   "execution_count": 3,
   "metadata": {},
   "outputs": [
    {
     "name": "stdout",
     "output_type": "stream",
     "text": [
      "Dimana?\n",
      "Ama siapa?\n",
      "Kapan?\n",
      "\n"
     ]
    }
   ],
   "source": [
    "Lirik = \"\"\"Dimana?\n",
    "Ama siapa?\n",
    "Kapan?\n",
    "\"\"\"\n",
    "print(Lirik)"
   ]
  },
  {
   "cell_type": "markdown",
   "metadata": {},
   "source": [
    "# Selecting Char"
   ]
  },
  {
   "cell_type": "code",
   "execution_count": 4,
   "metadata": {},
   "outputs": [
    {
     "name": "stdout",
     "output_type": "stream",
     "text": [
      "M\n",
      "u\n",
      "a\n"
     ]
    }
   ],
   "source": [
    "a = \"Muhammad Nafisa Fakhri\"\n",
    "print(a[0])\n",
    "print(a[1])\n",
    "print(a[-5])"
   ]
  },
  {
   "cell_type": "code",
   "execution_count": 5,
   "metadata": {},
   "outputs": [
    {
     "name": "stdout",
     "output_type": "stream",
     "text": [
      ".N ah\n"
     ]
    }
   ],
   "source": [
    "b = \"M. N. Fakhri\"\n",
    "print(b[1:11:2])"
   ]
  },
  {
   "cell_type": "markdown",
   "metadata": {},
   "source": [
    "# String Formatting"
   ]
  },
  {
   "cell_type": "code",
   "execution_count": 6,
   "metadata": {},
   "outputs": [
    {
     "name": "stdout",
     "output_type": "stream",
     "text": [
      "Nama saya Muhammad Nafisa Fakhri dan umur saya 27\n"
     ]
    }
   ],
   "source": [
    "nama = \"Muhammad Nafisa Fakhri\"\n",
    "umur = 27\n",
    "print(f\"Nama saya {nama} dan umur saya {umur}\")"
   ]
  },
  {
   "cell_type": "code",
   "execution_count": 7,
   "metadata": {},
   "outputs": [
    {
     "name": "stdout",
     "output_type": "stream",
     "text": [
      "\n",
      "Nama kamu adalah Fakhri\n",
      "usia kamu adalah 2\n"
     ]
    }
   ],
   "source": [
    "Nama = input(\"Masukan nama kamu\")\n",
    "usia = input(\"Masukan usia kamu\")\n",
    "print(f\"\"\"\n",
    "Nama kamu adalah {Nama}\n",
    "usia kamu adalah {usia}\"\"\")"
   ]
  },
  {
   "cell_type": "markdown",
   "metadata": {},
   "source": [
    "# Boolean"
   ]
  },
  {
   "cell_type": "code",
   "execution_count": 8,
   "metadata": {},
   "outputs": [
    {
     "data": {
      "text/plain": [
       "True"
      ]
     },
     "execution_count": 8,
     "metadata": {},
     "output_type": "execute_result"
    }
   ],
   "source": [
    "100 < 200"
   ]
  },
  {
   "cell_type": "code",
   "execution_count": 9,
   "metadata": {},
   "outputs": [
    {
     "data": {
      "text/plain": [
       "False"
      ]
     },
     "execution_count": 9,
     "metadata": {},
     "output_type": "execute_result"
    }
   ],
   "source": [
    "100 > 200"
   ]
  },
  {
   "cell_type": "markdown",
   "metadata": {},
   "source": [
    "# Variable Assigment"
   ]
  },
  {
   "cell_type": "code",
   "execution_count": 10,
   "metadata": {},
   "outputs": [
    {
     "name": "stdout",
     "output_type": "stream",
     "text": [
      "a = 1\n",
      "b = 2\n",
      "c = 3\n"
     ]
    }
   ],
   "source": [
    "a,b,c = 1,2,3\n",
    "print(f\"a = {a}\")\n",
    "print(f\"b = {b}\")\n",
    "print(f\"c = {c}\")"
   ]
  },
  {
   "cell_type": "markdown",
   "metadata": {},
   "source": [
    "# Operasi Aritmatika"
   ]
  },
  {
   "cell_type": "code",
   "execution_count": 11,
   "metadata": {},
   "outputs": [
    {
     "name": "stdout",
     "output_type": "stream",
     "text": [
      "Hasil Tambah = 14\n",
      "Hasil Kurang = 8\n",
      "Hasil Kali = 33\n",
      "Hasil Bagi = 3.6666666666666665\n",
      "Hasil Bagi Bulat = 3\n",
      "Hasil Pangkat = 1331\n",
      "Hasil Sisa Bagi = 2\n"
     ]
    }
   ],
   "source": [
    "angka1 = 11\n",
    "angka2 = 3\n",
    "\n",
    "print(f\"Hasil Tambah = {angka1 + angka2}\")\n",
    "print(f\"Hasil Kurang = {angka1 - angka2}\")\n",
    "print(f\"Hasil Kali = {angka1 * angka2}\")\n",
    "print(f\"Hasil Bagi = {angka1 / angka2}\")\n",
    "print(f\"Hasil Bagi Bulat = {angka1 // angka2}\")\n",
    "print(f\"Hasil Pangkat = {angka1 ** angka2}\")\n",
    "print(f\"Hasil Sisa Bagi = {angka1 % angka2}\")"
   ]
  },
  {
   "cell_type": "markdown",
   "metadata": {},
   "source": [
    "# Operasi String"
   ]
  },
  {
   "cell_type": "code",
   "execution_count": 12,
   "metadata": {},
   "outputs": [
    {
     "name": "stdout",
     "output_type": "stream",
     "text": [
      "concatenation = MuhammadNafisaFakhri\n",
      "repeating = MuhammadMuhammad\n",
      "repeating = NafisaNafisaNafisa\n",
      "repeating = FakhriFakhriFakhriFakhri\n"
     ]
    }
   ],
   "source": [
    "string1 = \"Muhammad\"\n",
    "string2 = \"Nafisa\"\n",
    "string3 = \"Fakhri\"\n",
    "\n",
    "print(f\"concatenation = {string1+string2+string3}\")\n",
    "print(f\"repeating = {string1*2}\")\n",
    "print(f\"repeating = {string2*3}\")\n",
    "print(f\"repeating = {string3*4}\")"
   ]
  },
  {
   "cell_type": "markdown",
   "metadata": {},
   "source": [
    "# Comparation Operator"
   ]
  },
  {
   "cell_type": "code",
   "execution_count": 13,
   "metadata": {},
   "outputs": [
    {
     "name": "stdout",
     "output_type": "stream",
     "text": [
      "3 == 4 sama dengan : False\n",
      "3 != 4 tidak sama dengan : True\n",
      "3 > 4 lebih besar : False\n",
      "3 >= 4 lebih besar sama dengan : False\n",
      "3 < 4 lebih kecil : True\n",
      "3 <= 4 lebih kecil sama dengan : True\n"
     ]
    }
   ],
   "source": [
    "d = 3\n",
    "e = 4\n",
    "\n",
    "print(f\"{d} == {e} sama dengan : {d==e}\")\n",
    "print(f\"{d} != {e} tidak sama dengan : {d!=e}\")\n",
    "print(f\"{d} > {e} lebih besar : {d>e}\")\n",
    "print(f\"{d} >= {e} lebih besar sama dengan : {d>=e}\")\n",
    "print(f\"{d} < {e} lebih kecil : {d<e}\")\n",
    "print(f\"{d} <= {e} lebih kecil sama dengan : {d<=e}\")"
   ]
  },
  {
   "cell_type": "markdown",
   "metadata": {},
   "source": [
    "# String Manipulation"
   ]
  },
  {
   "cell_type": "code",
   "execution_count": 14,
   "metadata": {},
   "outputs": [
    {
     "name": "stdout",
     "output_type": "stream",
     "text": [
      "MUHAMMAD NAFISA FAKHRI\n",
      "muhammad nafisa fakhri\n",
      "Muhammad nafisa fakhri\n",
      "Muhammad Nafisa Fakhri\n"
     ]
    }
   ],
   "source": [
    "wasta = \"Muhammad Nafisa Fakhri\"\n",
    "\n",
    "print(wasta.upper())\n",
    "print(wasta.lower())\n",
    "print(wasta.capitalize())\n",
    "print(wasta.title())"
   ]
  },
  {
   "cell_type": "code",
   "execution_count": 15,
   "metadata": {},
   "outputs": [
    {
     "name": "stdout",
     "output_type": "stream",
     "text": [
      "MUHAMMAD NAFISA FAKHRI\n"
     ]
    }
   ],
   "source": [
    "# mengubah data yang ada menjadi data yang baru\n",
    "wasta = wasta.upper()\n",
    "print(wasta)"
   ]
  },
  {
   "cell_type": "markdown",
   "metadata": {},
   "source": [
    "# Data Majemuk"
   ]
  },
  {
   "cell_type": "code",
   "execution_count": 1,
   "metadata": {},
   "outputs": [
    {
     "name": "stdout",
     "output_type": "stream",
     "text": [
      "(1, 2.5, 'Fakhri', True, ('z', 2, False))\n",
      "<class 'tuple'>\n",
      "[1, 2.5, 'Fakhri', True, ('z', 2, False)]\n",
      "<class 'list'>\n",
      "5\n",
      "5\n",
      "Fakhri\n",
      "True\n",
      "2.5\n",
      "('z', 2, False)\n"
     ]
    }
   ],
   "source": [
    "# Data majemuk dibagi 2, ada data tuple menggunakan () dan data list menggunakan []\n",
    "# Data tuple bersifat read only, data list dapat diubah\n",
    "\n",
    "data_tuple = (1, 2.5 ,\"Fakhri\", True, (\"z\", 2, False))\n",
    "data_list = [1, 2.5 ,\"Fakhri\", True, (\"z\", 2, False)]\n",
    "\n",
    "print(data_tuple)\n",
    "print(type(data_tuple))\n",
    "print(data_list)\n",
    "print(type(data_list))\n",
    "\n",
    "# hitung jumlah data dalam tuple dan list\n",
    "\n",
    "print(len(data_tuple))\n",
    "print(len(data_list))\n",
    "\n",
    "# mengambil data dari data tuple atau data list\n",
    "\n",
    "print(data_tuple[2])\n",
    "print(data_tuple[-2])\n",
    "print(data_list[1])\n",
    "print(data_list[-1])"
   ]
  },
  {
   "cell_type": "code",
   "execution_count": 2,
   "metadata": {},
   "outputs": [
    {
     "name": "stdout",
     "output_type": "stream",
     "text": [
      "[2, 3.5, 'Fakhri', True, ('y', 4, True)]\n"
     ]
    }
   ],
   "source": [
    "# mengubah data list\n",
    "\n",
    "list_data = [2, 3.5, \"Nafisa\", False, (\"y\", 4, True)]\n",
    "\n",
    "list_data[2] = \"Fakhri\"\n",
    "list_data[3] = True\n",
    "\n",
    "print(list_data)"
   ]
  },
  {
   "cell_type": "markdown",
   "metadata": {},
   "source": [
    "# List Method"
   ]
  },
  {
   "cell_type": "code",
   "execution_count": 3,
   "metadata": {},
   "outputs": [
    {
     "name": "stdout",
     "output_type": "stream",
     "text": [
      "[2, 4, 5, 6, 8, 10, 12]\n"
     ]
    }
   ],
   "source": [
    "# menambah data pada list\n",
    "data = [2, 4, 6, 8, 10]\n",
    "\n",
    "# append bertujuan untuk menambah data di urutan terakhir\n",
    "data.append(12)\n",
    "\n",
    "# insert bertujuan untuk menambah data dengan letak yang diinginkan, format penulisan (letak, data yang disisipkan)\n",
    "data.insert(2, 5)\n",
    "\n",
    "print(data)\n"
   ]
  },
  {
   "cell_type": "code",
   "execution_count": 2,
   "metadata": {},
   "outputs": [
    {
     "name": "stdout",
     "output_type": "stream",
     "text": [
      "[2, 4, 6, 8, 10]\n"
     ]
    }
   ],
   "source": [
    "# menghapus data pada list\n",
    "data2 = [2, 4, 5, 6, 8, 10, 12]\n",
    "\n",
    "data2.remove(12)\n",
    "del data2[2]\n",
    "\n",
    "print(data2)"
   ]
  },
  {
   "cell_type": "markdown",
   "metadata": {},
   "source": [
    "# Dictionary"
   ]
  },
  {
   "cell_type": "code",
   "execution_count": 1,
   "metadata": {},
   "outputs": [
    {
     "name": "stdout",
     "output_type": "stream",
     "text": [
      "{'Nama': 'Muhammad Nafisa Fakhri', 'TTL': 'Bandung, 25 Maret 1995', 'Usia': '27 Tahun', 'Cita-cita': 'Penguasa Dunia'}\n"
     ]
    }
   ],
   "source": [
    "# Pnulisan Dictionary menggunakan kurung kurawal {}\n",
    "biodata = {\"Nama\" :  \"Muhammad Nafisa Fakhri\",\n",
    "           \"TTL\" : \"Bandung, 25 Maret 1995\",\n",
    "           \"Usia\" : \"27 Tahun\",\n",
    "           \"Cita-cita\" : \"Penguasa Dunia\"}\n",
    "print(biodata)"
   ]
  },
  {
   "cell_type": "code",
   "execution_count": 2,
   "metadata": {},
   "outputs": [
    {
     "data": {
      "text/plain": [
       "'Muhammad Nafisa Fakhri'"
      ]
     },
     "execution_count": 2,
     "metadata": {},
     "output_type": "execute_result"
    }
   ],
   "source": [
    "# Mengambil data dari Dictionary menggunakan []\n",
    "biodata[\"Nama\"]"
   ]
  },
  {
   "cell_type": "code",
   "execution_count": 3,
   "metadata": {},
   "outputs": [
    {
     "name": "stdout",
     "output_type": "stream",
     "text": [
      "{'Nama': 'Muhammad Nafisa Fakhri', 'TTL': 'Bandung, 25 Maret 1995', 'Usia': '27 Tahun', 'Cita-cita': 'Penguasa Dunia dan Akhirat'}\n"
     ]
    }
   ],
   "source": [
    "# Mengubah data dari Dictionary\n",
    "biodata[\"Cita-cita\"] = \"Penguasa Dunia dan Akhirat\"\n",
    "print(biodata)"
   ]
  },
  {
   "cell_type": "code",
   "execution_count": 4,
   "metadata": {},
   "outputs": [
    {
     "name": "stdout",
     "output_type": "stream",
     "text": [
      "{'Nama': 'Muhammad Nafisa Fakhri', 'TTL': 'Bandung, 25 Maret 1995', 'Usia': '27 Tahun', 'Cita-cita': 'Penguasa Dunia dan Akhirat', 'Status': 'Single'}\n"
     ]
    }
   ],
   "source": [
    "# Menambah data ke Dictionary\n",
    "biodata[\"Status\"] = \"Single\"\n",
    "print(biodata)"
   ]
  },
  {
   "cell_type": "code",
   "execution_count": 6,
   "metadata": {},
   "outputs": [
    {
     "name": "stdout",
     "output_type": "stream",
     "text": [
      "{'Nama': 'Muhammad Nafisa Fakhri', 'TTL': 'Bandung, 25 Maret 1995', 'Usia': '27 Tahun', 'Status': 'Single'}\n"
     ]
    }
   ],
   "source": [
    "# Menghapus data dari Dictionary\n",
    "del biodata[\"Cita-cita\"]\n",
    "\n",
    "print(biodata)"
   ]
  },
  {
   "cell_type": "code",
   "execution_count": null,
   "metadata": {},
   "outputs": [],
   "source": []
  }
 ],
 "metadata": {
  "kernelspec": {
   "display_name": "Python 3.9.12 ('base')",
   "language": "python",
   "name": "python3"
  },
  "language_info": {
   "codemirror_mode": {
    "name": "ipython",
    "version": 3
   },
   "file_extension": ".py",
   "mimetype": "text/x-python",
   "name": "python",
   "nbconvert_exporter": "python",
   "pygments_lexer": "ipython3",
   "version": "3.9.12"
  },
  "orig_nbformat": 4,
  "vscode": {
   "interpreter": {
    "hash": "a90aeebcf29d64a654773811cc170cb25061cb2498f10ac689db374c7bf325de"
   }
  }
 },
 "nbformat": 4,
 "nbformat_minor": 2
}

{
 "cells": [
  {
   "cell_type": "code",
   "execution_count": 1,
   "metadata": {},
   "outputs": [],
   "source": [
    "import pandas as pd\n",
    "from scipy import stats\n",
    "import numpy as np\n",
    "import matplotlib.pyplot as plt\n",
    "import seaborn as sns"
   ]
  },
  {
   "cell_type": "code",
   "execution_count": 2,
   "metadata": {},
   "outputs": [],
   "source": [
    "# data ikut bimbel\n",
    "treatment = [85.2, 90, 78.9, 87.5, 88.2 ,77.5, 95, 81, 100, 85.2]\n",
    "# data gk ikut bimbel\n",
    "control = [82.3, 70.4, 66.2, 100, 65.3, 77.9, 90, 67.4, 70, 80]"
   ]
  },
  {
   "cell_type": "code",
   "execution_count": 3,
   "metadata": {},
   "outputs": [
    {
     "data": {
      "text/plain": [
       "[85.2, 90, 78.9, 87.5, 88.2, 77.5, 95, 81, 100, 85.2]"
      ]
     },
     "execution_count": 3,
     "metadata": {},
     "output_type": "execute_result"
    }
   ],
   "source": [
    "treatment"
   ]
  },
  {
   "cell_type": "code",
   "execution_count": 4,
   "metadata": {},
   "outputs": [
    {
     "data": {
      "text/plain": [
       "[82.3, 70.4, 66.2, 100, 65.3, 77.9, 90, 67.4, 70, 80]"
      ]
     },
     "execution_count": 4,
     "metadata": {},
     "output_type": "execute_result"
    }
   ],
   "source": [
    "control"
   ]
  },
  {
   "cell_type": "code",
   "execution_count": 5,
   "metadata": {},
   "outputs": [
    {
     "data": {
      "text/plain": [
       "9.899999999999991"
      ]
     },
     "execution_count": 5,
     "metadata": {},
     "output_type": "execute_result"
    }
   ],
   "source": [
    "# Hitung selisih rata-rata (ground truth)\n",
    "ground_truth = np.abs(np.mean(control) - np.mean(treatment))\n",
    "ground_truth"
   ]
  },
  {
   "cell_type": "code",
   "execution_count": 6,
   "metadata": {},
   "outputs": [
    {
     "data": {
      "text/plain": [
       "array([ 82.3,  70.4,  66.2, 100. ,  65.3,  77.9,  90. ,  67.4,  70. ,\n",
       "        80. ,  85.2,  90. ,  78.9,  87.5,  88.2,  77.5,  95. ,  81. ,\n",
       "       100. ,  85.2])"
      ]
     },
     "execution_count": 6,
     "metadata": {},
     "output_type": "execute_result"
    }
   ],
   "source": [
    "# Gabungkan data\n",
    "concate = np.concatenate([control,treatment])\n",
    "concate"
   ]
  },
  {
   "cell_type": "code",
   "execution_count": 7,
   "metadata": {},
   "outputs": [
    {
     "data": {
      "text/plain": [
       "[9.659999999999982,\n",
       " 2.6400000000000006,\n",
       " 4.939999999999998,\n",
       " 3.6599999999999966,\n",
       " 6.199999999999989,\n",
       " 5.140000000000001,\n",
       " 4.219999999999999,\n",
       " 1.5,\n",
       " 10.120000000000005,\n",
       " 5.980000000000018,\n",
       " 8.679999999999993,\n",
       " 0.7000000000000028,\n",
       " 4.859999999999999,\n",
       " 4.779999999999987,\n",
       " 8.86,\n",
       " 3.299999999999997,\n",
       " 2.759999999999991,\n",
       " 0.0800000000000125,\n",
       " 2.220000000000013,\n",
       " 2.4200000000000017,\n",
       " 2.6599999999999966,\n",
       " 4.360000000000014,\n",
       " 3.0799999999999983,\n",
       " 10.899999999999991,\n",
       " 8.579999999999984,\n",
       " 2.239999999999995,\n",
       " 11.719999999999999,\n",
       " 4.5600000000000165,\n",
       " 5.1200000000000045,\n",
       " 1.3399999999999892,\n",
       " 4.759999999999991,\n",
       " 7.8999999999999915,\n",
       " 3.8400000000000176,\n",
       " 0.21999999999999886,\n",
       " 0.8800000000000097,\n",
       " 6.440000000000012,\n",
       " 1.279999999999987,\n",
       " 0.9200000000000017,\n",
       " 1.6200000000000188,\n",
       " 0.9599999999999937,\n",
       " 4.640000000000001,\n",
       " 3.2800000000000153,\n",
       " 0.9999999999999858,\n",
       " 3.059999999999988,\n",
       " 2.519999999999996,\n",
       " 4.0,\n",
       " 5.1000000000000085,\n",
       " 0.5400000000000063,\n",
       " 0.09999999999999432,\n",
       " 4.039999999999978,\n",
       " 1.980000000000004,\n",
       " 4.800000000000011,\n",
       " 6.659999999999997,\n",
       " 4.019999999999996,\n",
       " 0.6999999999999886,\n",
       " 3.220000000000013,\n",
       " 1.6200000000000045,\n",
       " 4.5,\n",
       " 0.7000000000000028,\n",
       " 7.640000000000001,\n",
       " 5.859999999999999,\n",
       " 6.739999999999995,\n",
       " 8.399999999999991,\n",
       " 4.3799999999999955,\n",
       " 1.1000000000000085,\n",
       " 4.4199999999999875,\n",
       " 3.1599999999999824,\n",
       " 5.199999999999989,\n",
       " 2.5400000000000063,\n",
       " 2.6399999999999864,\n",
       " 5.079999999999984,\n",
       " 0.7999999999999972,\n",
       " 1.299999999999983,\n",
       " 6.759999999999991,\n",
       " 1.4800000000000182,\n",
       " 7.940000000000012,\n",
       " 0.7599999999999909,\n",
       " 0.8399999999999892,\n",
       " 8.36,\n",
       " 0.3999999999999915,\n",
       " 4.759999999999991,\n",
       " 13.719999999999999,\n",
       " 1.5600000000000023,\n",
       " 5.680000000000021,\n",
       " 1.1000000000000085,\n",
       " 1.3000000000000114,\n",
       " 4.0,\n",
       " 5.3999999999999915,\n",
       " 7.019999999999996,\n",
       " 1.0799999999999983,\n",
       " 0.37999999999999545,\n",
       " 5.240000000000009,\n",
       " 6.059999999999988,\n",
       " 3.299999999999997,\n",
       " 5.140000000000001,\n",
       " 0.01999999999999602,\n",
       " 0.4399999999999835,\n",
       " 3.4599999999999937,\n",
       " 10.519999999999982,\n",
       " 7.439999999999969]"
      ]
     },
     "execution_count": 7,
     "metadata": {},
     "output_type": "execute_result"
    }
   ],
   "source": [
    "# Permutation test\n",
    "a = [] # tempat perhitungan selisih rata-rata\n",
    "x = 100 # jumlah resampling\n",
    "np.random.seed(x)\n",
    "for i in range(x):\n",
    "    np.random.shuffle(concate)\n",
    "    group_a = np.mean(concate[:10])\n",
    "    group_b = np.mean(concate[10:])\n",
    "    b = np.abs(group_a - group_b)\n",
    "    a.append(b)\n",
    "a"
   ]
  },
  {
   "cell_type": "code",
   "execution_count": 8,
   "metadata": {},
   "outputs": [
    {
     "data": {
      "text/plain": [
       "array([ 8, 23, 26, 81, 98], dtype=int64)"
      ]
     },
     "execution_count": 8,
     "metadata": {},
     "output_type": "execute_result"
    }
   ],
   "source": [
    "nilai_lebih_besar = np.where(a>=ground_truth)[0]\n",
    "nilai_lebih_besar"
   ]
  },
  {
   "cell_type": "code",
   "execution_count": 9,
   "metadata": {},
   "outputs": [
    {
     "data": {
      "text/plain": [
       "5"
      ]
     },
     "execution_count": 9,
     "metadata": {},
     "output_type": "execute_result"
    }
   ],
   "source": [
    "len(nilai_lebih_besar)"
   ]
  },
  {
   "cell_type": "code",
   "execution_count": 10,
   "metadata": {},
   "outputs": [
    {
     "data": {
      "text/plain": [
       "0.05"
      ]
     },
     "execution_count": 10,
     "metadata": {},
     "output_type": "execute_result"
    }
   ],
   "source": [
    "p_value = len(nilai_lebih_besar) / x\n",
    "p_value"
   ]
  }
 ],
 "metadata": {
  "kernelspec": {
   "display_name": "Python 3.9.12 ('base')",
   "language": "python",
   "name": "python3"
  },
  "language_info": {
   "codemirror_mode": {
    "name": "ipython",
    "version": 3
   },
   "file_extension": ".py",
   "mimetype": "text/x-python",
   "name": "python",
   "nbconvert_exporter": "python",
   "pygments_lexer": "ipython3",
   "version": "3.9.12"
  },
  "orig_nbformat": 4,
  "vscode": {
   "interpreter": {
    "hash": "a90aeebcf29d64a654773811cc170cb25061cb2498f10ac689db374c7bf325de"
   }
  }
 },
 "nbformat": 4,
 "nbformat_minor": 2
}

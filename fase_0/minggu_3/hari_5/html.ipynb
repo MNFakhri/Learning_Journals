{
 "cells": [
  {
   "cell_type": "code",
   "execution_count": 1,
   "metadata": {},
   "outputs": [],
   "source": [
    "import requests\n",
    "from bs4 import BeautifulSoup\n",
    "from selenium import webdriver"
   ]
  },
  {
   "cell_type": "code",
   "execution_count": 2,
   "metadata": {},
   "outputs": [
    {
     "data": {
      "text/plain": [
       "<Response [200]>"
      ]
     },
     "execution_count": 2,
     "metadata": {},
     "output_type": "execute_result"
    }
   ],
   "source": [
    "page = requests.get(\"https://www.gramedia.com/categories/buku\")\n",
    "page"
   ]
  },
  {
   "cell_type": "code",
   "execution_count": 3,
   "metadata": {},
   "outputs": [
    {
     "name": "stderr",
     "output_type": "stream",
     "text": [
      "C:\\Users\\ASUS\\AppData\\Local\\Temp\\ipykernel_7328\\3723912338.py:1: DeprecationWarning: executable_path has been deprecated, please pass in a Service object\n",
      "  driver = webdriver.Firefox(executable_path=r\"D:\\Bootcamp Hacktiv8\\FTDS 013\\learning_journals\\fase_0\\minggu_3\\hari_5\\geckodriver.exe\")\n"
     ]
    },
    {
     "name": "stdout",
     "output_type": "stream",
     "text": [
      "<html class=\"\" lang=\"id\">\n",
      " <head>\n",
      "  <base href=\"/\"/>\n",
      "  <meta charset=\"utf-8\"/>\n",
      "  <meta content=\"width=device-width, initial-scale=1\" name=\"viewport\"/>\n",
      "  <meta content=\"#281e5a\" name=\"theme-color\"/>\n",
      "  <meta content=\"index, follow\" name=\"robots\"/>\n",
      "  <link href=\"/assets/favicon.ico\" rel=\"icon\" type=\"image/x-icon\"/>\n",
      "  <link href=\"manifest.json\" rel=\"manifest\"/>\n",
      "  <link href=\"/assets/favicon.ico\" rel=\"shortcut icon\" type=\"image/x-icon\"/>\n",
      "  <meta content=\"z91Vp6ZYo9UoX5D4ur6i4Lrl0l1j3DDoCH08fD3n53g\" name=\"google-site-verification\"/>\n",
      "  <meta content=\"810657685650228\" property=\"fb:app_id\"/>\n",
      "  <style>\n",
      "   .async-hide {\n",
      "        opacity: 0 !important\n",
      "    }\n",
      "  </style>\n",
      "  <script async=\"\" src=\"https://app.\n"
     ]
    }
   ],
   "source": [
    "driver = webdriver.Firefox(executable_path=r\"D:\\Bootcamp Hacktiv8\\FTDS 013\\learning_journals\\fase_0\\minggu_3\\hari_5\\geckodriver.exe\")\n",
    "\n",
    "url=\"https://www.gramedia.com/categories/buku\"\n",
    "driver.get(url)\n",
    "html = driver.page_source\n",
    "\n",
    "soup = BeautifulSoup(html, \"html.parser\")\n",
    "print(soup.prettify()[:700])"
   ]
  }
 ],
 "metadata": {
  "kernelspec": {
   "display_name": "Python 3.9.12 ('base')",
   "language": "python",
   "name": "python3"
  },
  "language_info": {
   "codemirror_mode": {
    "name": "ipython",
    "version": 3
   },
   "file_extension": ".py",
   "mimetype": "text/x-python",
   "name": "python",
   "nbconvert_exporter": "python",
   "pygments_lexer": "ipython3",
   "version": "3.9.12"
  },
  "orig_nbformat": 4,
  "vscode": {
   "interpreter": {
    "hash": "a90aeebcf29d64a654773811cc170cb25061cb2498f10ac689db374c7bf325de"
   }
  }
 },
 "nbformat": 4,
 "nbformat_minor": 2
}
